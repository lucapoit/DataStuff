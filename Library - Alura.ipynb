{
 "cells": [
  {
   "cell_type": "markdown",
   "metadata": {},
   "source": [
    "# Days 1 to 5"
   ]
  },
  {
   "cell_type": "code",
   "execution_count": 3,
   "metadata": {},
   "outputs": [],
   "source": [
    "import pandas as pd\n",
    "import numpy as np\n",
    "import os"
   ]
  },
  {
   "cell_type": "code",
   "execution_count": 4,
   "metadata": {},
   "outputs": [],
   "source": [
    "import matplotlib.pyplot as plt"
   ]
  },
  {
   "cell_type": "code",
   "execution_count": 5,
   "metadata": {},
   "outputs": [],
   "source": [
    "import datetime"
   ]
  },
  {
   "cell_type": "code",
   "execution_count": 6,
   "metadata": {},
   "outputs": [],
   "source": [
    "import ast"
   ]
  },
  {
   "cell_type": "markdown",
   "metadata": {},
   "source": [
    "#### importing all files, making it a single dataframe"
   ]
  },
  {
   "cell_type": "code",
   "execution_count": 7,
   "metadata": {},
   "outputs": [],
   "source": [
    "emprestimos_url = ['https://raw.githubusercontent.com/FranciscoFoz/7_Days_of_Code_Alura-Python-Pandas/main/Dia_1-Importando_dados/Datasets/dados_emprestimos/emprestimos-20101.csv',\n",
    "'https://raw.githubusercontent.com/FranciscoFoz/7_Days_of_Code_Alura-Python-Pandas/main/Dia_1-Importando_dados/Datasets/dados_emprestimos/emprestimos-20102.csv',\n",
    "'https://raw.githubusercontent.com/FranciscoFoz/7_Days_of_Code_Alura-Python-Pandas/main/Dia_1-Importando_dados/Datasets/dados_emprestimos/emprestimos-20111.csv',\n",
    "'https://raw.githubusercontent.com/FranciscoFoz/7_Days_of_Code_Alura-Python-Pandas/main/Dia_1-Importando_dados/Datasets/dados_emprestimos/emprestimos-20112.csv',\n",
    "'https://raw.githubusercontent.com/FranciscoFoz/7_Days_of_Code_Alura-Python-Pandas/main/Dia_1-Importando_dados/Datasets/dados_emprestimos/emprestimos-20121.csv',\n",
    "'https://raw.githubusercontent.com/FranciscoFoz/7_Days_of_Code_Alura-Python-Pandas/main/Dia_1-Importando_dados/Datasets/dados_emprestimos/emprestimos-20122.csv', \n",
    "'https://raw.githubusercontent.com/FranciscoFoz/7_Days_of_Code_Alura-Python-Pandas/main/Dia_1-Importando_dados/Datasets/dados_emprestimos/emprestimos-20131.csv', \n",
    "'https://raw.githubusercontent.com/FranciscoFoz/7_Days_of_Code_Alura-Python-Pandas/main/Dia_1-Importando_dados/Datasets/dados_emprestimos/emprestimos-20132.csv', \n",
    "'https://raw.githubusercontent.com/FranciscoFoz/7_Days_of_Code_Alura-Python-Pandas/main/Dia_1-Importando_dados/Datasets/dados_emprestimos/emprestimos-20141.csv', \n",
    "'https://raw.githubusercontent.com/FranciscoFoz/7_Days_of_Code_Alura-Python-Pandas/main/Dia_1-Importando_dados/Datasets/dados_emprestimos/emprestimos-20142.csv', \n",
    "'https://raw.githubusercontent.com/FranciscoFoz/7_Days_of_Code_Alura-Python-Pandas/main/Dia_1-Importando_dados/Datasets/dados_emprestimos/emprestimos-20151.csv', \n",
    "'https://raw.githubusercontent.com/FranciscoFoz/7_Days_of_Code_Alura-Python-Pandas/main/Dia_1-Importando_dados/Datasets/dados_emprestimos/emprestimos-20152.csv', \n",
    "'https://raw.githubusercontent.com/FranciscoFoz/7_Days_of_Code_Alura-Python-Pandas/main/Dia_1-Importando_dados/Datasets/dados_emprestimos/emprestimos-20161.csv', \n",
    "'https://raw.githubusercontent.com/FranciscoFoz/7_Days_of_Code_Alura-Python-Pandas/main/Dia_1-Importando_dados/Datasets/dados_emprestimos/emprestimos-20161.csv', \n",
    "'https://raw.githubusercontent.com/FranciscoFoz/7_Days_of_Code_Alura-Python-Pandas/main/Dia_1-Importando_dados/Datasets/dados_emprestimos/emprestimos-20171.csv', \n",
    "'https://raw.githubusercontent.com/FranciscoFoz/7_Days_of_Code_Alura-Python-Pandas/main/Dia_1-Importando_dados/Datasets/dados_emprestimos/emprestimos-20172.csv',\n",
    "'https://raw.githubusercontent.com/FranciscoFoz/7_Days_of_Code_Alura-Python-Pandas/main/Dia_1-Importando_dados/Datasets/dados_emprestimos/emprestimos-20181.csv', \n",
    "'https://raw.githubusercontent.com/FranciscoFoz/7_Days_of_Code_Alura-Python-Pandas/main/Dia_1-Importando_dados/Datasets/dados_emprestimos/emprestimos-20182.csv', \n",
    "'https://raw.githubusercontent.com/FranciscoFoz/7_Days_of_Code_Alura-Python-Pandas/main/Dia_1-Importando_dados/Datasets/dados_emprestimos/emprestimos-20191.csv', \n",
    "'https://raw.githubusercontent.com/FranciscoFoz/7_Days_of_Code_Alura-Python-Pandas/main/Dia_1-Importando_dados/Datasets/dados_emprestimos/emprestimos-20192.csv', \n",
    "'https://raw.githubusercontent.com/FranciscoFoz/7_Days_of_Code_Alura-Python-Pandas/main/Dia_1-Importando_dados/Datasets/dados_emprestimos/emprestimos-20201.csv']   \n",
    "\n",
    "csv_list = []\n",
    "\n",
    "for url in emprestimos_url:\n",
    "    csv_list.append(pd.read_csv(url))"
   ]
  },
  {
   "cell_type": "code",
   "execution_count": 8,
   "metadata": {},
   "outputs": [],
   "source": [
    "exemplares = pd.read_parquet('C:\\\\Users\\\\luca_\\\\Desktop\\\\Py Training\\\\Datasets\\\\dados_exemplares.parquet')"
   ]
  },
  {
   "cell_type": "code",
   "execution_count": 9,
   "metadata": {},
   "outputs": [],
   "source": [
    "df_list = []"
   ]
  },
  {
   "cell_type": "code",
   "execution_count": 10,
   "metadata": {},
   "outputs": [],
   "source": [
    "for df in csv_list:\n",
    "    df_list.append(df.merge(exemplares,how='left',on='codigo_barras'))"
   ]
  },
  {
   "cell_type": "code",
   "execution_count": 11,
   "metadata": {},
   "outputs": [],
   "source": [
    "df_completo = pd.concat([df_list[0],df_list[1],df_list[2],df_list[3],df_list[4],df_list[5],df_list[6],df_list[7],df_list[8],df_list[9],df_list[10],df_list[11],df_list[12],df_list[13],df_list[14],df_list[15],df_list[16],df_list[17],df_list[18],df_list[19],df_list[20]],ignore_index=True)"
   ]
  },
  {
   "cell_type": "code",
   "execution_count": 12,
   "metadata": {},
   "outputs": [],
   "source": [
    "df_completo.drop_duplicates(inplace=True)\n",
    "df_completo.drop('registro_sistema', axis=1, inplace=True)\n",
    "df_completo = df_completo.astype({\"matricula_ou_siape\": str})\n",
    "df_completo['matricula_ou_siape'] = df_completo['matricula_ou_siape'].str.rstrip('.0')"
   ]
  },
  {
   "cell_type": "markdown",
   "metadata": {},
   "source": [
    "#### adding a CDU column and converting 'data_emprestimo' column to datetime format"
   ]
  },
  {
   "cell_type": "code",
   "execution_count": 13,
   "metadata": {},
   "outputs": [],
   "source": [
    "conditions = [\n",
    "    (df_completo['localizacao'] < 100),\n",
    "    (df_completo['localizacao'] >= 100) & (df_completo['localizacao'] < 200),\n",
    "    (df_completo['localizacao'] >= 200) & (df_completo['localizacao'] < 300),\n",
    "    (df_completo['localizacao'] >= 300) & (df_completo['localizacao'] < 400),\n",
    "    (df_completo['localizacao'] >= 400) & (df_completo['localizacao'] < 500),\n",
    "    (df_completo['localizacao'] >= 500) & (df_completo['localizacao'] < 600),\n",
    "    (df_completo['localizacao'] >= 600) & (df_completo['localizacao'] < 700),\n",
    "    (df_completo['localizacao'] >= 700) & (df_completo['localizacao'] < 800),\n",
    "    (df_completo['localizacao'] >= 800) & (df_completo['localizacao'] < 900),\n",
    "    (df_completo['localizacao'] >= 900)\n",
    "]\n",
    "\n",
    "values = ['Generalidades. Ciência e conhecimento', 'Filosofia e psicologia', 'Religião', 'Ciências sociais', 'Classe vaga. Provisoriamente não ocupada',\n",
    "      'Matemática e ciências naturais','Ciências aplicadas','Belas artes','Linguagem. Língua. Linguística.','Geografia. Biografia. História.']"
   ]
  },
  {
   "cell_type": "code",
   "execution_count": 14,
   "metadata": {},
   "outputs": [],
   "source": [
    "df_completo['CDU'] = np.select(conditions, values)"
   ]
  },
  {
   "cell_type": "code",
   "execution_count": 15,
   "metadata": {},
   "outputs": [],
   "source": [
    "df_completo['data_emprestimo'] = pd.to_datetime(df_completo['data_emprestimo'], format='%Y/%m/%d %H:%M:%S')"
   ]
  },
  {
   "cell_type": "code",
   "execution_count": 16,
   "metadata": {},
   "outputs": [],
   "source": [
    "df_completo_copy = df_completo.copy()"
   ]
  },
  {
   "cell_type": "markdown",
   "metadata": {},
   "source": [
    "#### helper funcions so we can group by year, month and hour easier"
   ]
  },
  {
   "cell_type": "code",
   "execution_count": 19,
   "metadata": {},
   "outputs": [],
   "source": [
    "def year(date):\n",
    "    return date.year"
   ]
  },
  {
   "cell_type": "code",
   "execution_count": 20,
   "metadata": {},
   "outputs": [],
   "source": [
    "def month(date):\n",
    "    return date.month"
   ]
  },
  {
   "cell_type": "code",
   "execution_count": 21,
   "metadata": {},
   "outputs": [],
   "source": [
    "def hour(date):\n",
    "    return date.hour"
   ]
  },
  {
   "cell_type": "code",
   "execution_count": 22,
   "metadata": {},
   "outputs": [],
   "source": [
    "df_completo['ano_emprestimo'] = df_completo['data_emprestimo'].apply(year)"
   ]
  },
  {
   "cell_type": "code",
   "execution_count": 23,
   "metadata": {},
   "outputs": [],
   "source": [
    "df_completo['mes_emprestimo'] = df_completo['data_emprestimo'].apply(month)"
   ]
  },
  {
   "cell_type": "code",
   "execution_count": 24,
   "metadata": {},
   "outputs": [],
   "source": [
    "df_completo['hora_emprestimo'] = df_completo['data_emprestimo'].apply(hour)"
   ]
  },
  {
   "cell_type": "markdown",
   "metadata": {},
   "source": [
    "#### functions to plot by certain period of time and create tables"
   ]
  },
  {
   "cell_type": "code",
   "execution_count": 20,
   "metadata": {},
   "outputs": [],
   "source": [
    "def plot_yearly(df):\n",
    "    plt.figure(figsize=(5,5))\n",
    "    plt.plot(df_completo.groupby('ano_emprestimo').id_exemplar.nunique())"
   ]
  },
  {
   "cell_type": "code",
   "execution_count": 21,
   "metadata": {},
   "outputs": [],
   "source": [
    "def plot_monthly(year, df):\n",
    "    plt.figure(figsize=(5,5))\n",
    "    df[df['ano_emprestimo'] == year].groupby('mes_emprestimo').id_exemplar.nunique().plot(title=f'Empréstimos ao longo do ano de {year}')"
   ]
  },
  {
   "cell_type": "code",
   "execution_count": 22,
   "metadata": {},
   "outputs": [],
   "source": [
    "def plot_hour(day, month,year, df):\n",
    "    plt.figure(figsize=(10,5))\n",
    "    df[df['data_emprestimo'].dt.date == datetime.date(year,month,day)].groupby('hora_emprestimo').id_exemplar.nunique().plot(kind='bar', \n",
    "                                                                                                                             title= f'Empréstimos do dia {day}/{month}/{year}')"
   ]
  },
  {
   "cell_type": "code",
   "execution_count": 23,
   "metadata": {},
   "outputs": [],
   "source": [
    "def make_pretty(styler):\n",
    "    styler.background_gradient(axis=None, vmin=1000, vmax=20000, cmap=\"Blues\")\n",
    "    styler.hide_index()\n",
    "    return styler"
   ]
  },
  {
   "cell_type": "code",
   "execution_count": 24,
   "metadata": {},
   "outputs": [],
   "source": [
    "def table_monthly(year, df):\n",
    "    meses = ['jan','fev','mar','abr','mai','jun','jul','ago','set','out','nov','dez']\n",
    "    a = pd.DataFrame(df[df['ano_emprestimo'] == year].groupby('mes_emprestimo').id_exemplar.nunique())\n",
    "    a['Empréstimos']=a['id_exemplar']\n",
    "    a['Meses']=meses\n",
    "    a.drop(['id_exemplar'],axis=1,inplace=True)\n",
    "    a = a[['Meses','Empréstimos']]\n",
    "    \n",
    "    a = a.style.pipe(make_pretty)\n",
    "    \n",
    "    return a"
   ]
  },
  {
   "cell_type": "code",
   "execution_count": 25,
   "metadata": {},
   "outputs": [],
   "source": [
    "def stats(series):\n",
    "    \n",
    "    a = pd.DataFrame(series.value_counts())\n",
    "    a.reset_index(inplace=True)\n",
    "    \n",
    "    a[a.columns[1]] = (a[a.columns[1]]/sum(a[a.columns[1]]))*100\n",
    "    a.loc[:, a.columns[1]] = a[a.columns[1]].map('{:.2f}'.format)\n",
    "    \n",
    "    name = a.columns[1].split('_')\n",
    "    name = ' '.join(name)\n",
    "    \n",
    "    a.rename(columns={'index': name, a.columns[1]: '% do total'}, inplace=True)\n",
    "    a = a.style.hide_index() \n",
    "        \n",
    "    return a"
   ]
  },
  {
   "cell_type": "code",
   "execution_count": 119,
   "metadata": {},
   "outputs": [
    {
     "data": {
      "image/png": "[encoded data removed]",
      "text/plain": [
       "<Figure size 360x360 with 1 Axes>"
      ]
     },
     "metadata": {
      "needs_background": "light"
     },
     "output_type": "display_data"
    }
   ],
   "source": [
    "plot_yearly(df_completo)"
   ]
  },
  {
   "cell_type": "code",
   "execution_count": 219,
   "metadata": {},
   "outputs": [
    {
     "data": {
      "text/html": [
       "<style  type=\"text/css\" >\n",
       "    #T_07d9894a_4f72_11ef_b74f_988389e8eb8drow0_col1 {\n",
       "            background-color:  #dbf1b2;\n",
       "            color:  #000000;\n",
       "        }    #T_07d9894a_4f72_11ef_b74f_988389e8eb8drow1_col1 {\n",
       "            background-color:  #0c2060;\n",
       "            color:  #f1f1f1;\n",
       "        }    #T_07d9894a_4f72_11ef_b74f_988389e8eb8drow2_col1 {\n",
       "            background-color:  #1c2d81;\n",
       "            color:  #f1f1f1;\n",
       "        }    #T_07d9894a_4f72_11ef_b74f_988389e8eb8drow3_col1 {\n",
       "            background-color:  #24449c;\n",
       "            color:  #f1f1f1;\n",
       "        }    #T_07d9894a_4f72_11ef_b74f_988389e8eb8drow4_col1 {\n",
       "            background-color:  #225da8;\n",
       "            color:  #f1f1f1;\n",
       "        }    #T_07d9894a_4f72_11ef_b74f_988389e8eb8drow5_col1 {\n",
       "            background-color:  #48b9c3;\n",
       "            color:  #000000;\n",
       "        }    #T_07d9894a_4f72_11ef_b74f_988389e8eb8drow6_col1 {\n",
       "            background-color:  #1e8abd;\n",
       "            color:  #000000;\n",
       "        }    #T_07d9894a_4f72_11ef_b74f_988389e8eb8drow7_col1 {\n",
       "            background-color:  #1f2f87;\n",
       "            color:  #f1f1f1;\n",
       "        }    #T_07d9894a_4f72_11ef_b74f_988389e8eb8drow8_col1 {\n",
       "            background-color:  #225ca7;\n",
       "            color:  #f1f1f1;\n",
       "        }    #T_07d9894a_4f72_11ef_b74f_988389e8eb8drow9_col1 {\n",
       "            background-color:  #1f7eb7;\n",
       "            color:  #000000;\n",
       "        }    #T_07d9894a_4f72_11ef_b74f_988389e8eb8drow10_col1 {\n",
       "            background-color:  #3cb1c3;\n",
       "            color:  #000000;\n",
       "        }    #T_07d9894a_4f72_11ef_b74f_988389e8eb8drow11_col1 {\n",
       "            background-color:  #edf8b1;\n",
       "            color:  #000000;\n",
       "        }</style><table id=\"T_07d9894a_4f72_11ef_b74f_988389e8eb8d\" ><caption>Empréstimos por mês</caption><thead>    <tr>        <th class=\"col_heading level0 col0\" >Meses</th>        <th class=\"col_heading level0 col1\" >Empréstimos</th>    </tr></thead><tbody>\n",
       "                <tr>\n",
       "                                <td id=\"T_07d9894a_4f72_11ef_b74f_988389e8eb8drow0_col0\" class=\"data row0 col0\" >jan</td>\n",
       "                        <td id=\"T_07d9894a_4f72_11ef_b74f_988389e8eb8drow0_col1\" class=\"data row0 col1\" >4546</td>\n",
       "            </tr>\n",
       "            <tr>\n",
       "                                <td id=\"T_07d9894a_4f72_11ef_b74f_988389e8eb8drow1_col0\" class=\"data row1 col0\" >fev</td>\n",
       "                        <td id=\"T_07d9894a_4f72_11ef_b74f_988389e8eb8drow1_col1\" class=\"data row1 col1\" >19674</td>\n",
       "            </tr>\n",
       "            <tr>\n",
       "                                <td id=\"T_07d9894a_4f72_11ef_b74f_988389e8eb8drow2_col0\" class=\"data row2 col0\" >mar</td>\n",
       "                        <td id=\"T_07d9894a_4f72_11ef_b74f_988389e8eb8drow2_col1\" class=\"data row2 col1\" >18318</td>\n",
       "            </tr>\n",
       "            <tr>\n",
       "                                <td id=\"T_07d9894a_4f72_11ef_b74f_988389e8eb8drow3_col0\" class=\"data row3 col0\" >abr</td>\n",
       "                        <td id=\"T_07d9894a_4f72_11ef_b74f_988389e8eb8drow3_col1\" class=\"data row3 col1\" >16698</td>\n",
       "            </tr>\n",
       "            <tr>\n",
       "                                <td id=\"T_07d9894a_4f72_11ef_b74f_988389e8eb8drow4_col0\" class=\"data row4 col0\" >mai</td>\n",
       "                        <td id=\"T_07d9894a_4f72_11ef_b74f_988389e8eb8drow4_col1\" class=\"data row4 col1\" >15254</td>\n",
       "            </tr>\n",
       "            <tr>\n",
       "                                <td id=\"T_07d9894a_4f72_11ef_b74f_988389e8eb8drow5_col0\" class=\"data row5 col0\" >jun</td>\n",
       "                        <td id=\"T_07d9894a_4f72_11ef_b74f_988389e8eb8drow5_col1\" class=\"data row5 col1\" >10258</td>\n",
       "            </tr>\n",
       "            <tr>\n",
       "                                <td id=\"T_07d9894a_4f72_11ef_b74f_988389e8eb8drow6_col0\" class=\"data row6 col0\" >jul</td>\n",
       "                        <td id=\"T_07d9894a_4f72_11ef_b74f_988389e8eb8drow6_col1\" class=\"data row6 col1\" >13242</td>\n",
       "            </tr>\n",
       "            <tr>\n",
       "                                <td id=\"T_07d9894a_4f72_11ef_b74f_988389e8eb8drow7_col0\" class=\"data row7 col0\" >ago</td>\n",
       "                        <td id=\"T_07d9894a_4f72_11ef_b74f_988389e8eb8drow7_col1\" class=\"data row7 col1\" >18119</td>\n",
       "            </tr>\n",
       "            <tr>\n",
       "                                <td id=\"T_07d9894a_4f72_11ef_b74f_988389e8eb8drow8_col0\" class=\"data row8 col0\" >set</td>\n",
       "                        <td id=\"T_07d9894a_4f72_11ef_b74f_988389e8eb8drow8_col1\" class=\"data row8 col1\" >15354</td>\n",
       "            </tr>\n",
       "            <tr>\n",
       "                                <td id=\"T_07d9894a_4f72_11ef_b74f_988389e8eb8drow9_col0\" class=\"data row9 col0\" >out</td>\n",
       "                        <td id=\"T_07d9894a_4f72_11ef_b74f_988389e8eb8drow9_col1\" class=\"data row9 col1\" >13708</td>\n",
       "            </tr>\n",
       "            <tr>\n",
       "                                <td id=\"T_07d9894a_4f72_11ef_b74f_988389e8eb8drow10_col0\" class=\"data row10 col0\" >nov</td>\n",
       "                        <td id=\"T_07d9894a_4f72_11ef_b74f_988389e8eb8drow10_col1\" class=\"data row10 col1\" >10858</td>\n",
       "            </tr>\n",
       "            <tr>\n",
       "                                <td id=\"T_07d9894a_4f72_11ef_b74f_988389e8eb8drow11_col0\" class=\"data row11 col0\" >dez</td>\n",
       "                        <td id=\"T_07d9894a_4f72_11ef_b74f_988389e8eb8drow11_col1\" class=\"data row11 col1\" >3430</td>\n",
       "            </tr>\n",
       "    </tbody></table>"
      ],
      "text/plain": [
       "<pandas.io.formats.style.Styler at 0x2569b685cc8>"
      ]
     },
     "execution_count": 219,
     "metadata": {},
     "output_type": "execute_result"
    }
   ],
   "source": [
    "table_monthly(2019, df_completo)"
   ]
  },
  {
   "cell_type": "code",
   "execution_count": 121,
   "metadata": {},
   "outputs": [
    {
     "data": {
      "image/png": "[encoded data removed]",
      "text/plain": [
       "<Figure size 360x360 with 1 Axes>"
      ]
     },
     "metadata": {
      "needs_background": "light"
     },
     "output_type": "display_data"
    }
   ],
   "source": [
    "plot_monthly(2019, df_completo)"
   ]
  },
  {
   "cell_type": "code",
   "execution_count": 116,
   "metadata": {},
   "outputs": [
    {
     "data": {
      "image/png": "[encoded data removed]",
      "text/plain": [
       "<Figure size 720x360 with 1 Axes>"
      ]
     },
     "metadata": {
      "needs_background": "light"
     },
     "output_type": "display_data"
    }
   ],
   "source": [
    "plot_hour(15,9,2010, df_completo)"
   ]
  },
  {
   "cell_type": "code",
   "execution_count": 171,
   "metadata": {},
   "outputs": [
    {
     "data": {
      "text/html": [
       "<style  type=\"text/css\" >\n",
       "</style><table id=\"T_dcfb297a_5017_11ef_adb1_988389e8eb8d\" ><thead>    <tr>        <th class=\"col_heading level0 col0\" >tipo vinculo usuario</th>        <th class=\"col_heading level0 col1\" >% do total</th>    </tr></thead><tbody>\n",
       "                <tr>\n",
       "                                <td id=\"T_dcfb297a_5017_11ef_adb1_988389e8eb8drow0_col0\" class=\"data row0 col0\" >ALUNO DE GRADUAÇÃO</td>\n",
       "                        <td id=\"T_dcfb297a_5017_11ef_adb1_988389e8eb8drow0_col1\" class=\"data row0 col1\" >78.46</td>\n",
       "            </tr>\n",
       "            <tr>\n",
       "                                <td id=\"T_dcfb297a_5017_11ef_adb1_988389e8eb8drow1_col0\" class=\"data row1 col0\" >ALUNO DE PÓS-GRADUAÇÃO</td>\n",
       "                        <td id=\"T_dcfb297a_5017_11ef_adb1_988389e8eb8drow1_col1\" class=\"data row1 col1\" >14.08</td>\n",
       "            </tr>\n",
       "            <tr>\n",
       "                                <td id=\"T_dcfb297a_5017_11ef_adb1_988389e8eb8drow2_col0\" class=\"data row2 col0\" >DOCENTE</td>\n",
       "                        <td id=\"T_dcfb297a_5017_11ef_adb1_988389e8eb8drow2_col1\" class=\"data row2 col1\" >3.45</td>\n",
       "            </tr>\n",
       "            <tr>\n",
       "                                <td id=\"T_dcfb297a_5017_11ef_adb1_988389e8eb8drow3_col0\" class=\"data row3 col0\" >SERVIDOR TÉCNICO-ADMINISTRATIVO</td>\n",
       "                        <td id=\"T_dcfb297a_5017_11ef_adb1_988389e8eb8drow3_col1\" class=\"data row3 col1\" >1.51</td>\n",
       "            </tr>\n",
       "            <tr>\n",
       "                                <td id=\"T_dcfb297a_5017_11ef_adb1_988389e8eb8drow4_col0\" class=\"data row4 col0\" >ALUNO MÉDIO/TÉCNICO</td>\n",
       "                        <td id=\"T_dcfb297a_5017_11ef_adb1_988389e8eb8drow4_col1\" class=\"data row4 col1\" >1.31</td>\n",
       "            </tr>\n",
       "            <tr>\n",
       "                                <td id=\"T_dcfb297a_5017_11ef_adb1_988389e8eb8drow5_col0\" class=\"data row5 col0\" >DOCENTE EXTERNO</td>\n",
       "                        <td id=\"T_dcfb297a_5017_11ef_adb1_988389e8eb8drow5_col1\" class=\"data row5 col1\" >1.07</td>\n",
       "            </tr>\n",
       "            <tr>\n",
       "                                <td id=\"T_dcfb297a_5017_11ef_adb1_988389e8eb8drow6_col0\" class=\"data row6 col0\" >USUÁRIO EXTERNO</td>\n",
       "                        <td id=\"T_dcfb297a_5017_11ef_adb1_988389e8eb8drow6_col1\" class=\"data row6 col1\" >0.12</td>\n",
       "            </tr>\n",
       "            <tr>\n",
       "                                <td id=\"T_dcfb297a_5017_11ef_adb1_988389e8eb8drow7_col0\" class=\"data row7 col0\" >OUTROS</td>\n",
       "                        <td id=\"T_dcfb297a_5017_11ef_adb1_988389e8eb8drow7_col1\" class=\"data row7 col1\" >0.00</td>\n",
       "            </tr>\n",
       "    </tbody></table>"
      ],
      "text/plain": [
       "<pandas.io.formats.style.Styler at 0x1a7b9301488>"
      ]
     },
     "execution_count": 171,
     "metadata": {},
     "output_type": "execute_result"
    }
   ],
   "source": [
    "stats(df_completo['tipo_vinculo_usuario'])"
   ]
  },
  {
   "cell_type": "code",
   "execution_count": 172,
   "metadata": {},
   "outputs": [
    {
     "data": {
      "text/html": [
       "<style  type=\"text/css\" >\n",
       "</style><table id=\"T_dffaad2c_5017_11ef_aac7_988389e8eb8d\" ><thead>    <tr>        <th class=\"col_heading level0 col0\" >colecao</th>        <th class=\"col_heading level0 col1\" >% do total</th>    </tr></thead><tbody>\n",
       "                <tr>\n",
       "                                <td id=\"T_dffaad2c_5017_11ef_aac7_988389e8eb8drow0_col0\" class=\"data row0 col0\" >Acervo Circulante</td>\n",
       "                        <td id=\"T_dffaad2c_5017_11ef_aac7_988389e8eb8drow0_col1\" class=\"data row0 col1\" >99.05</td>\n",
       "            </tr>\n",
       "            <tr>\n",
       "                                <td id=\"T_dffaad2c_5017_11ef_aac7_988389e8eb8drow1_col0\" class=\"data row1 col0\" >Multimeios</td>\n",
       "                        <td id=\"T_dffaad2c_5017_11ef_aac7_988389e8eb8drow1_col1\" class=\"data row1 col1\" >0.39</td>\n",
       "            </tr>\n",
       "            <tr>\n",
       "                                <td id=\"T_dffaad2c_5017_11ef_aac7_988389e8eb8drow2_col0\" class=\"data row2 col0\" >Monografias</td>\n",
       "                        <td id=\"T_dffaad2c_5017_11ef_aac7_988389e8eb8drow2_col1\" class=\"data row2 col1\" >0.20</td>\n",
       "            </tr>\n",
       "            <tr>\n",
       "                                <td id=\"T_dffaad2c_5017_11ef_aac7_988389e8eb8drow3_col0\" class=\"data row3 col0\" >Dissertações</td>\n",
       "                        <td id=\"T_dffaad2c_5017_11ef_aac7_988389e8eb8drow3_col1\" class=\"data row3 col1\" >0.12</td>\n",
       "            </tr>\n",
       "            <tr>\n",
       "                                <td id=\"T_dffaad2c_5017_11ef_aac7_988389e8eb8drow4_col0\" class=\"data row4 col0\" >Obras de Referência</td>\n",
       "                        <td id=\"T_dffaad2c_5017_11ef_aac7_988389e8eb8drow4_col1\" class=\"data row4 col1\" >0.09</td>\n",
       "            </tr>\n",
       "            <tr>\n",
       "                                <td id=\"T_dffaad2c_5017_11ef_aac7_988389e8eb8drow5_col0\" class=\"data row5 col0\" >Publicações de Autores do RN</td>\n",
       "                        <td id=\"T_dffaad2c_5017_11ef_aac7_988389e8eb8drow5_col1\" class=\"data row5 col1\" >0.04</td>\n",
       "            </tr>\n",
       "            <tr>\n",
       "                                <td id=\"T_dffaad2c_5017_11ef_aac7_988389e8eb8drow6_col0\" class=\"data row6 col0\" >Publicações da UFRN</td>\n",
       "                        <td id=\"T_dffaad2c_5017_11ef_aac7_988389e8eb8drow6_col1\" class=\"data row6 col1\" >0.04</td>\n",
       "            </tr>\n",
       "            <tr>\n",
       "                                <td id=\"T_dffaad2c_5017_11ef_aac7_988389e8eb8drow7_col0\" class=\"data row7 col0\" >Teses</td>\n",
       "                        <td id=\"T_dffaad2c_5017_11ef_aac7_988389e8eb8drow7_col1\" class=\"data row7 col1\" >0.04</td>\n",
       "            </tr>\n",
       "            <tr>\n",
       "                                <td id=\"T_dffaad2c_5017_11ef_aac7_988389e8eb8drow8_col0\" class=\"data row8 col0\" >Folhetos</td>\n",
       "                        <td id=\"T_dffaad2c_5017_11ef_aac7_988389e8eb8drow8_col1\" class=\"data row8 col1\" >0.01</td>\n",
       "            </tr>\n",
       "            <tr>\n",
       "                                <td id=\"T_dffaad2c_5017_11ef_aac7_988389e8eb8drow9_col0\" class=\"data row9 col0\" >Necessidades Educacionais Específicas</td>\n",
       "                        <td id=\"T_dffaad2c_5017_11ef_aac7_988389e8eb8drow9_col1\" class=\"data row9 col1\" >0.01</td>\n",
       "            </tr>\n",
       "            <tr>\n",
       "                                <td id=\"T_dffaad2c_5017_11ef_aac7_988389e8eb8drow10_col0\" class=\"data row10 col0\" >Trabalho Acadêmico</td>\n",
       "                        <td id=\"T_dffaad2c_5017_11ef_aac7_988389e8eb8drow10_col1\" class=\"data row10 col1\" >0.01</td>\n",
       "            </tr>\n",
       "            <tr>\n",
       "                                <td id=\"T_dffaad2c_5017_11ef_aac7_988389e8eb8drow11_col0\" class=\"data row11 col0\" >Eventos</td>\n",
       "                        <td id=\"T_dffaad2c_5017_11ef_aac7_988389e8eb8drow11_col1\" class=\"data row11 col1\" >0.01</td>\n",
       "            </tr>\n",
       "            <tr>\n",
       "                                <td id=\"T_dffaad2c_5017_11ef_aac7_988389e8eb8drow12_col0\" class=\"data row12 col0\" >Coleção Mossoroense</td>\n",
       "                        <td id=\"T_dffaad2c_5017_11ef_aac7_988389e8eb8drow12_col1\" class=\"data row12 col1\" >0.00</td>\n",
       "            </tr>\n",
       "            <tr>\n",
       "                                <td id=\"T_dffaad2c_5017_11ef_aac7_988389e8eb8drow13_col0\" class=\"data row13 col0\" >Coleção Zila Mamede</td>\n",
       "                        <td id=\"T_dffaad2c_5017_11ef_aac7_988389e8eb8drow13_col1\" class=\"data row13 col1\" >0.00</td>\n",
       "            </tr>\n",
       "            <tr>\n",
       "                                <td id=\"T_dffaad2c_5017_11ef_aac7_988389e8eb8drow14_col0\" class=\"data row14 col0\" >Literatura de Cordel</td>\n",
       "                        <td id=\"T_dffaad2c_5017_11ef_aac7_988389e8eb8drow14_col1\" class=\"data row14 col1\" >0.00</td>\n",
       "            </tr>\n",
       "            <tr>\n",
       "                                <td id=\"T_dffaad2c_5017_11ef_aac7_988389e8eb8drow15_col0\" class=\"data row15 col0\" >Obras Raras</td>\n",
       "                        <td id=\"T_dffaad2c_5017_11ef_aac7_988389e8eb8drow15_col1\" class=\"data row15 col1\" >0.00</td>\n",
       "            </tr>\n",
       "    </tbody></table>"
      ],
      "text/plain": [
       "<pandas.io.formats.style.Styler at 0x1a7b93017c8>"
      ]
     },
     "execution_count": 172,
     "metadata": {},
     "output_type": "execute_result"
    }
   ],
   "source": [
    "stats(df_completo['colecao'])"
   ]
  },
  {
   "cell_type": "code",
   "execution_count": 162,
   "metadata": {},
   "outputs": [
    {
     "data": {
      "text/html": [
       "<style  type=\"text/css\" >\n",
       "</style><table id=\"T_5f80bdd2_5017_11ef_8e29_988389e8eb8d\" ><thead>    <tr>        <th class=\"col_heading level0 col0\" >biblioteca</th>        <th class=\"col_heading level0 col1\" >% do total</th>    </tr></thead><tbody>\n",
       "                <tr>\n",
       "                                <td id=\"T_5f80bdd2_5017_11ef_8e29_988389e8eb8drow0_col0\" class=\"data row0 col0\" >Biblioteca Central Zila Mamede</td>\n",
       "                        <td id=\"T_5f80bdd2_5017_11ef_8e29_988389e8eb8drow0_col1\" class=\"data row0 col1\" >68.91</td>\n",
       "            </tr>\n",
       "            <tr>\n",
       "                                <td id=\"T_5f80bdd2_5017_11ef_8e29_988389e8eb8drow1_col0\" class=\"data row1 col0\" >Biblioteca Setorial do Centro Ciências da Saúde - CCS</td>\n",
       "                        <td id=\"T_5f80bdd2_5017_11ef_8e29_988389e8eb8drow1_col1\" class=\"data row1 col1\" >5.76</td>\n",
       "            </tr>\n",
       "            <tr>\n",
       "                                <td id=\"T_5f80bdd2_5017_11ef_8e29_988389e8eb8drow2_col0\" class=\"data row2 col0\" >Biblioteca Setorial da Faculdade de Ciências da Saúde do Trairi - FACISA - Santa Cruz</td>\n",
       "                        <td id=\"T_5f80bdd2_5017_11ef_8e29_988389e8eb8drow2_col1\" class=\"data row2 col1\" >3.73</td>\n",
       "            </tr>\n",
       "            <tr>\n",
       "                                <td id=\"T_5f80bdd2_5017_11ef_8e29_988389e8eb8drow3_col0\" class=\"data row3 col0\" >Biblioteca Setorial Prof. Alberto Moreira Campos - ­Departamento de Odontologia</td>\n",
       "                        <td id=\"T_5f80bdd2_5017_11ef_8e29_988389e8eb8drow3_col1\" class=\"data row3 col1\" >3.20</td>\n",
       "            </tr>\n",
       "            <tr>\n",
       "                                <td id=\"T_5f80bdd2_5017_11ef_8e29_988389e8eb8drow4_col0\" class=\"data row4 col0\" >Biblioteca Setorial Profª. Maria Lúcia da Costa Bezerra - ­CERES­ - Caicó</td>\n",
       "                        <td id=\"T_5f80bdd2_5017_11ef_8e29_988389e8eb8drow4_col1\" class=\"data row4 col1\" >2.97</td>\n",
       "            </tr>\n",
       "            <tr>\n",
       "                                <td id=\"T_5f80bdd2_5017_11ef_8e29_988389e8eb8drow5_col0\" class=\"data row5 col0\" >Biblioteca Setorial Bertha Cruz Enders - ­Escola de Saúde da UFRN - ESUFRN</td>\n",
       "                        <td id=\"T_5f80bdd2_5017_11ef_8e29_988389e8eb8drow5_col1\" class=\"data row5 col1\" >2.24</td>\n",
       "            </tr>\n",
       "            <tr>\n",
       "                                <td id=\"T_5f80bdd2_5017_11ef_8e29_988389e8eb8drow6_col0\" class=\"data row6 col0\" >Biblioteca Setorial do Centro de Ciências Humanas, Letras e Artes - CCHLA</td>\n",
       "                        <td id=\"T_5f80bdd2_5017_11ef_8e29_988389e8eb8drow6_col1\" class=\"data row6 col1\" >1.99</td>\n",
       "            </tr>\n",
       "            <tr>\n",
       "                                <td id=\"T_5f80bdd2_5017_11ef_8e29_988389e8eb8drow7_col0\" class=\"data row7 col0\" >Biblioteca Setorial Dr. Paulo Bezerra - EMCM/RN - Caicó</td>\n",
       "                        <td id=\"T_5f80bdd2_5017_11ef_8e29_988389e8eb8drow7_col1\" class=\"data row7 col1\" >1.45</td>\n",
       "            </tr>\n",
       "            <tr>\n",
       "                                <td id=\"T_5f80bdd2_5017_11ef_8e29_988389e8eb8drow8_col0\" class=\"data row8 col0\" >Biblioteca Setorial Profª. Maria José Mamede Galvão - FELCS - Currais Novos</td>\n",
       "                        <td id=\"T_5f80bdd2_5017_11ef_8e29_988389e8eb8drow8_col1\" class=\"data row8 col1\" >1.42</td>\n",
       "            </tr>\n",
       "            <tr>\n",
       "                                <td id=\"T_5f80bdd2_5017_11ef_8e29_988389e8eb8drow9_col0\" class=\"data row9 col0\" >Biblioteca Setorial Prof. Francisco Gurgel De Azevedo - Instituto Química - IQ</td>\n",
       "                        <td id=\"T_5f80bdd2_5017_11ef_8e29_988389e8eb8drow9_col1\" class=\"data row9 col1\" >1.29</td>\n",
       "            </tr>\n",
       "            <tr>\n",
       "                                <td id=\"T_5f80bdd2_5017_11ef_8e29_988389e8eb8drow10_col0\" class=\"data row10 col0\" >Biblioteca Setorial Prof. Rodolfo Helinski - Escola Agrícola de Jundiaí - EAJ  - Macaiba</td>\n",
       "                        <td id=\"T_5f80bdd2_5017_11ef_8e29_988389e8eb8drow10_col1\" class=\"data row10 col1\" >1.29</td>\n",
       "            </tr>\n",
       "            <tr>\n",
       "                                <td id=\"T_5f80bdd2_5017_11ef_8e29_988389e8eb8drow11_col0\" class=\"data row11 col0\" >Biblioteca Setorial do Núcleo de Educação da Infância - NEI</td>\n",
       "                        <td id=\"T_5f80bdd2_5017_11ef_8e29_988389e8eb8drow11_col1\" class=\"data row11 col1\" >1.12</td>\n",
       "            </tr>\n",
       "            <tr>\n",
       "                                <td id=\"T_5f80bdd2_5017_11ef_8e29_988389e8eb8drow12_col0\" class=\"data row12 col0\" >Biblioteca Setorial Prof. Ronaldo Xavier de Arruda - CCET</td>\n",
       "                        <td id=\"T_5f80bdd2_5017_11ef_8e29_988389e8eb8drow12_col1\" class=\"data row12 col1\" >1.10</td>\n",
       "            </tr>\n",
       "            <tr>\n",
       "                                <td id=\"T_5f80bdd2_5017_11ef_8e29_988389e8eb8drow13_col0\" class=\"data row13 col0\" >Biblioteca Setorial Pe. Jaime Diniz - Escola de Música - EMUFRN</td>\n",
       "                        <td id=\"T_5f80bdd2_5017_11ef_8e29_988389e8eb8drow13_col1\" class=\"data row13 col1\" >1.03</td>\n",
       "            </tr>\n",
       "            <tr>\n",
       "                                <td id=\"T_5f80bdd2_5017_11ef_8e29_988389e8eb8drow14_col0\" class=\"data row14 col0\" >Biblioteca Setorial do Departamento de Artes - DEART</td>\n",
       "                        <td id=\"T_5f80bdd2_5017_11ef_8e29_988389e8eb8drow14_col1\" class=\"data row14 col1\" >0.81</td>\n",
       "            </tr>\n",
       "            <tr>\n",
       "                                <td id=\"T_5f80bdd2_5017_11ef_8e29_988389e8eb8drow15_col0\" class=\"data row15 col0\" >Biblioteca Setorial Prof. Leopoldo Nelson - ­Centro de Biociências - CB</td>\n",
       "                        <td id=\"T_5f80bdd2_5017_11ef_8e29_988389e8eb8drow15_col1\" class=\"data row15 col1\" >0.61</td>\n",
       "            </tr>\n",
       "            <tr>\n",
       "                                <td id=\"T_5f80bdd2_5017_11ef_8e29_988389e8eb8drow16_col0\" class=\"data row16 col0\" >Biblioteca Setorial do Centro Ciências Sociais Aplicadas - CCSA</td>\n",
       "                        <td id=\"T_5f80bdd2_5017_11ef_8e29_988389e8eb8drow16_col1\" class=\"data row16 col1\" >0.51</td>\n",
       "            </tr>\n",
       "            <tr>\n",
       "                                <td id=\"T_5f80bdd2_5017_11ef_8e29_988389e8eb8drow17_col0\" class=\"data row17 col0\" >Biblioteca Setorial Prof. Dr. Marcelo Bezerra de Melo Tinôco - DARQ - ­CT</td>\n",
       "                        <td id=\"T_5f80bdd2_5017_11ef_8e29_988389e8eb8drow17_col1\" class=\"data row17 col1\" >0.25</td>\n",
       "            </tr>\n",
       "            <tr>\n",
       "                                <td id=\"T_5f80bdd2_5017_11ef_8e29_988389e8eb8drow18_col0\" class=\"data row18 col0\" >Biblioteca Setorial Prof. Horácio Nicolas Solimo - ­ Engenharia Química - EQ - CT</td>\n",
       "                        <td id=\"T_5f80bdd2_5017_11ef_8e29_988389e8eb8drow18_col1\" class=\"data row18 col1\" >0.20</td>\n",
       "            </tr>\n",
       "            <tr>\n",
       "                                <td id=\"T_5f80bdd2_5017_11ef_8e29_988389e8eb8drow19_col0\" class=\"data row19 col0\" >Biblioteca Setorial Moacyr de Góes - CE</td>\n",
       "                        <td id=\"T_5f80bdd2_5017_11ef_8e29_988389e8eb8drow19_col1\" class=\"data row19 col1\" >0.05</td>\n",
       "            </tr>\n",
       "            <tr>\n",
       "                                <td id=\"T_5f80bdd2_5017_11ef_8e29_988389e8eb8drow20_col0\" class=\"data row20 col0\" >Biblioteca Setorial Árvore do Conhecimento - Instituto do Cérebro - ICe</td>\n",
       "                        <td id=\"T_5f80bdd2_5017_11ef_8e29_988389e8eb8drow20_col1\" class=\"data row20 col1\" >0.04</td>\n",
       "            </tr>\n",
       "            <tr>\n",
       "                                <td id=\"T_5f80bdd2_5017_11ef_8e29_988389e8eb8drow21_col0\" class=\"data row21 col0\" >Biblioteca Setorial do Núcleo de Ensino Superior do Agreste - NESA - Nova Cruz</td>\n",
       "                        <td id=\"T_5f80bdd2_5017_11ef_8e29_988389e8eb8drow21_col1\" class=\"data row21 col1\" >0.03</td>\n",
       "            </tr>\n",
       "    </tbody></table>"
      ],
      "text/plain": [
       "<pandas.io.formats.style.Styler at 0x1a7b9a29888>"
      ]
     },
     "execution_count": 162,
     "metadata": {},
     "output_type": "execute_result"
    }
   ],
   "source": [
    "stats(df_completo['biblioteca'])"
   ]
  },
  {
   "cell_type": "code",
   "execution_count": 163,
   "metadata": {},
   "outputs": [
    {
     "data": {
      "text/html": [
       "<style  type=\"text/css\" >\n",
       "</style><table id=\"T_73bb4a3e_5017_11ef_a440_988389e8eb8d\" ><thead>    <tr>        <th class=\"col_heading level0 col0\" >CDU</th>        <th class=\"col_heading level0 col1\" >% do total</th>    </tr></thead><tbody>\n",
       "                <tr>\n",
       "                                <td id=\"T_73bb4a3e_5017_11ef_a440_988389e8eb8drow0_col0\" class=\"data row0 col0\" >Ciências aplicadas</td>\n",
       "                        <td id=\"T_73bb4a3e_5017_11ef_a440_988389e8eb8drow0_col1\" class=\"data row0 col1\" >63.60</td>\n",
       "            </tr>\n",
       "            <tr>\n",
       "                                <td id=\"T_73bb4a3e_5017_11ef_a440_988389e8eb8drow1_col0\" class=\"data row1 col0\" >Ciências sociais</td>\n",
       "                        <td id=\"T_73bb4a3e_5017_11ef_a440_988389e8eb8drow1_col1\" class=\"data row1 col1\" >15.99</td>\n",
       "            </tr>\n",
       "            <tr>\n",
       "                                <td id=\"T_73bb4a3e_5017_11ef_a440_988389e8eb8drow2_col0\" class=\"data row2 col0\" >0</td>\n",
       "                        <td id=\"T_73bb4a3e_5017_11ef_a440_988389e8eb8drow2_col1\" class=\"data row2 col1\" >8.57</td>\n",
       "            </tr>\n",
       "            <tr>\n",
       "                                <td id=\"T_73bb4a3e_5017_11ef_a440_988389e8eb8drow3_col0\" class=\"data row3 col0\" >Matemática e ciências naturais</td>\n",
       "                        <td id=\"T_73bb4a3e_5017_11ef_a440_988389e8eb8drow3_col1\" class=\"data row3 col1\" >3.00</td>\n",
       "            </tr>\n",
       "            <tr>\n",
       "                                <td id=\"T_73bb4a3e_5017_11ef_a440_988389e8eb8drow4_col0\" class=\"data row4 col0\" >Generalidades. Ciência e conhecimento</td>\n",
       "                        <td id=\"T_73bb4a3e_5017_11ef_a440_988389e8eb8drow4_col1\" class=\"data row4 col1\" >2.61</td>\n",
       "            </tr>\n",
       "            <tr>\n",
       "                                <td id=\"T_73bb4a3e_5017_11ef_a440_988389e8eb8drow5_col0\" class=\"data row5 col0\" >Religião</td>\n",
       "                        <td id=\"T_73bb4a3e_5017_11ef_a440_988389e8eb8drow5_col1\" class=\"data row5 col1\" >2.61</td>\n",
       "            </tr>\n",
       "            <tr>\n",
       "                                <td id=\"T_73bb4a3e_5017_11ef_a440_988389e8eb8drow6_col0\" class=\"data row6 col0\" >Filosofia e psicologia</td>\n",
       "                        <td id=\"T_73bb4a3e_5017_11ef_a440_988389e8eb8drow6_col1\" class=\"data row6 col1\" >2.53</td>\n",
       "            </tr>\n",
       "            <tr>\n",
       "                                <td id=\"T_73bb4a3e_5017_11ef_a440_988389e8eb8drow7_col0\" class=\"data row7 col0\" >Geografia. Biografia. História.</td>\n",
       "                        <td id=\"T_73bb4a3e_5017_11ef_a440_988389e8eb8drow7_col1\" class=\"data row7 col1\" >0.37</td>\n",
       "            </tr>\n",
       "            <tr>\n",
       "                                <td id=\"T_73bb4a3e_5017_11ef_a440_988389e8eb8drow8_col0\" class=\"data row8 col0\" >Belas artes</td>\n",
       "                        <td id=\"T_73bb4a3e_5017_11ef_a440_988389e8eb8drow8_col1\" class=\"data row8 col1\" >0.37</td>\n",
       "            </tr>\n",
       "            <tr>\n",
       "                                <td id=\"T_73bb4a3e_5017_11ef_a440_988389e8eb8drow9_col0\" class=\"data row9 col0\" >Linguagem. Língua. Linguística.</td>\n",
       "                        <td id=\"T_73bb4a3e_5017_11ef_a440_988389e8eb8drow9_col1\" class=\"data row9 col1\" >0.35</td>\n",
       "            </tr>\n",
       "    </tbody></table>"
      ],
      "text/plain": [
       "<pandas.io.formats.style.Styler at 0x1a7b9e4e808>"
      ]
     },
     "execution_count": 163,
     "metadata": {},
     "output_type": "execute_result"
    }
   ],
   "source": [
    "stats(df_completo['CDU'])"
   ]
  },
  {
   "cell_type": "code",
   "execution_count": 25,
   "metadata": {},
   "outputs": [],
   "source": [
    "df_filtered = df_completo[['tipo_vinculo_usuario','id_exemplar','colecao','ano_emprestimo','mes_emprestimo']].copy()\n",
    "\n",
    "df_filtered_grad = df_filtered[df_filtered['tipo_vinculo_usuario'] == 'ALUNO DE GRADUAÇÃO']\n",
    "df_filtered_posgrad = df_filtered[df_filtered['tipo_vinculo_usuario'] == 'ALUNO DE PÓS-GRADUAÇÃO']\n",
    "\n",
    "popular_grad = df_filtered_grad['colecao'].value_counts().index.tolist()[0]\n",
    "popular_posgrad = df_filtered_posgrad['colecao'].value_counts().index.tolist()[0]\n",
    "\n",
    "df_filtered_grad = df_filtered_grad[df_filtered_grad['colecao'] == popular_grad]\n",
    "df_filtered_posgrad = df_filtered_posgrad[df_filtered_posgrad['colecao'] == popular_posgrad]"
   ]
  },
  {
   "cell_type": "code",
   "execution_count": 27,
   "metadata": {},
   "outputs": [],
   "source": [
    "def plot_box_monthly(year, df1,df2):\n",
    "    plt.figure(figsize=(10,5))\n",
    "    \n",
    "    plt.subplot(1,2,1)\n",
    "    a = df1[df1['ano_emprestimo'] == year].groupby('mes_emprestimo').id_exemplar.nunique()\n",
    "    plt.boxplot(a)\n",
    "    plt.title('Empréstimos mensais na \\ngraduação no ano de ' + str(year))\n",
    "    \n",
    "    plt.subplot(1,2,2)\n",
    "    b = df2[df2['ano_emprestimo'] == year].groupby('mes_emprestimo').id_exemplar.nunique()\n",
    "    plt.boxplot(b)\n",
    "    plt.title('Empréstimos mensais na \\nPós no ano de ' + str(year))"
   ]
  },
  {
   "cell_type": "code",
   "execution_count": 87,
   "metadata": {
    "collapsed": true
   },
   "outputs": [
    {
     "data": {
      "image/png": "[encoded data removed]",
      "text/plain": [
       "<Figure size 720x360 with 2 Axes>"
      ]
     },
     "metadata": {
      "needs_background": "light"
     },
     "output_type": "display_data"
    }
   ],
   "source": [
    "plot_box_monthly(2011, df_filtered_grad, df_filtered_posgrad)"
   ]
  },
  {
   "cell_type": "markdown",
   "metadata": {},
   "source": [
    "# day 6 and 7"
   ]
  },
  {
   "cell_type": "markdown",
   "metadata": {},
   "source": [
    "#### extracting and transforming into DataFrames"
   ]
  },
  {
   "cell_type": "code",
   "execution_count": 1,
   "metadata": {},
   "outputs": [],
   "source": [
    "curso_previsao_2022 = {\n",
    "'administracao' : 1905,\n",
    "'arquitetura_e_urbanismo': 1896,\n",
    "'artes_cenicas': 1920,\n",
    "'bioinformatica': 2302,\n",
    "'bioquimica' :2090,\n",
    "'ciencia_e_engenharia_de_materiais' :2010,\n",
    "'ciencia_tecnologia_e_inovacao': 1960,\n",
    "'ciencias_da_saude': 1730,\n",
    "'ciencias_odontologicas' :2405,\n",
    "'design': 1900,\n",
    "'engenharia_civil': 1920,\n",
    "'engenharia_software' :1890,\n",
    "'filosofia' :1903,\n",
    "'gestao_da_informacao_e_do_conhecimento' :1855,\n",
    "}"
   ]
  },
  {
   "cell_type": "code",
   "execution_count": 26,
   "metadata": {},
   "outputs": [],
   "source": [
    "df_json = pd.read_json('https://raw.githubusercontent.com/FranciscoFoz/7_Days_of_Code_Alura-Python-Pandas/main/Dia_6-Novos_dados_novas_analises/Datasets/cadastro_alunos.json?_hsenc=p2ANqtz--l2bvjcUWKmx1znimEZ0Us9DnUijWJIogN_nrNj4HkoMUDPsarkHKX1SigYPAUw0yk_hLI55M49Eh0Omha5Z18ObAOQg&_hsmi=270881120')\n",
    "df_excel = pd.read_excel(\"C:\\\\Users\\luca_\\\\Desktop\\\\Py Training\\\\7 days of code - ALURA\\\\matricula_alunos.xlsx\")\n",
    "\n",
    "json_list_grad = ast.literal_eval(df_json['registros'][0])\n",
    "json_list_posgrad = ast.literal_eval(df_json['registros'][1])"
   ]
  },
  {
   "cell_type": "code",
   "execution_count": 68,
   "metadata": {
    "collapsed": true
   },
   "outputs": [
    {
     "data": {
      "text/plain": [
       "['2009029003.0', 'ALUNO DE GRADUAÇÃO', 'FILOSOFIA']"
      ]
     },
     "execution_count": 68,
     "metadata": {},
     "output_type": "execute_result"
    }
   ],
   "source": [
    "list(json_list_grad[0].values())"
   ]
  },
  {
   "cell_type": "code",
   "execution_count": null,
   "metadata": {},
   "outputs": [],
   "source": [
    "df_excel_copy = df_excel.copy()\n",
    "df_excel_copy.drop(0, axis=0, inplace=True)\n",
    "for line in json_list_grad:\n",
    "    df_excel_copy.loc[len(df_excel_copy)+1] = list(line.values())"
   ]
  },
  {
   "cell_type": "code",
   "execution_count": 27,
   "metadata": {},
   "outputs": [],
   "source": [
    "df_excel_posgrad = df_excel.copy()\n",
    "df_excel_posgrad.drop(0, axis=0, inplace=True)\n",
    "for line in json_list_posgrad:\n",
    "    df_excel_posgrad.loc[len(df_excel_posgrad)+1] = list(line.values())"
   ]
  },
  {
   "cell_type": "markdown",
   "metadata": {},
   "source": [
    "#### organazing DataFrame and Copying to avoid bugs in the original if needed, also matching the matricula_ou_siape column type with the complete dataframe"
   ]
  },
  {
   "cell_type": "code",
   "execution_count": 112,
   "metadata": {},
   "outputs": [],
   "source": [
    "df_excel_copy = df_excel_copy.rename(columns={'Matricula de alunos até 2010': 'matricula_ou_siape', 'Unnamed: 1': 'tipo_vinculo_usuario', 'Unnamed: 2':'curso'})\n",
    "df_excel_copy = df_excel_copy.astype({\"matricula_ou_siape\": str})\n",
    "df_excel_copy['matricula_ou_siape'] = df_excel_copy['matricula_ou_siape'].str.rstrip('.0')"
   ]
  },
  {
   "cell_type": "code",
   "execution_count": 28,
   "metadata": {},
   "outputs": [],
   "source": [
    "df_excel_posgrad = df_excel_posgrad.rename(columns={'Matricula de alunos até 2010': 'matricula_ou_siape', 'Unnamed: 1': 'tipo_vinculo_usuario', 'Unnamed: 2':'curso'})\n",
    "df_excel_posgrad = df_excel_posgrad.astype({\"matricula_ou_siape\": str})\n",
    "df_excel_posgrad['matricula_ou_siape'] = df_excel_posgrad['matricula_ou_siape'].str.rstrip('.0')"
   ]
  },
  {
   "cell_type": "code",
   "execution_count": 118,
   "metadata": {
    "scrolled": true
   },
   "outputs": [
    {
     "data": {
      "text/plain": [
       "[]"
      ]
     },
     "execution_count": 118,
     "metadata": {},
     "output_type": "execute_result"
    }
   ],
   "source": [
    "df_excel_copy.columns[df_excel_copy.isnull().any()].tolist()"
   ]
  },
  {
   "cell_type": "markdown",
   "metadata": {},
   "source": [
    "#### getting only the data from 'ALUNOS DE GRADUAÇÃO' and from 2015 onwards and after, getting only the data from 'ALUNOS DE PÓs GRADUAÇÃO' from 2017 onwards merging with the df containing the respective courses"
   ]
  },
  {
   "cell_type": "code",
   "execution_count": 124,
   "metadata": {},
   "outputs": [],
   "source": [
    "post_2015_grad = pd.DataFrame(df_completo[df_completo['ano_emprestimo'] >=2015])\n",
    "post_2015_grad = pd.DataFrame(post_2015_grad[post_2015_grad['tipo_vinculo_usuario'] == 'ALUNO DE GRADUAÇÃO'])\n",
    "post_2015_grad.drop(['id_emprestimo','codigo_barras','data_renovacao','data_emprestimo','data_devolucao','status_material','mes_emprestimo','hora_emprestimo'], axis=1, inplace=True)\n",
    "post_2015_grad_courses = pd.merge(post_2015_grad, df_excel_copy, on=['matricula_ou_siape'])"
   ]
  },
  {
   "cell_type": "code",
   "execution_count": 32,
   "metadata": {},
   "outputs": [],
   "source": [
    "post_2017_posgrad = pd.DataFrame(df_completo[df_completo['ano_emprestimo'] >=2017])\n",
    "post_2017_posgrad = pd.DataFrame(post_2017_posgrad[post_2017_posgrad['tipo_vinculo_usuario'] == 'ALUNO DE PÓS-GRADUAÇÃO'])\n",
    "post_2017_posgrad.drop(['id_emprestimo','codigo_barras','data_renovacao','data_emprestimo','data_devolucao','status_material','mes_emprestimo','hora_emprestimo'], axis=1, inplace=True)\n",
    "post_2017_posgrad_courses = pd.merge(post_2017_posgrad, df_excel_posgrad, on=['matricula_ou_siape'])"
   ]
  },
  {
   "cell_type": "markdown",
   "metadata": {},
   "source": [
    "#### grouping by year and course and displaying it on a table"
   ]
  },
  {
   "cell_type": "code",
   "execution_count": 158,
   "metadata": {
    "scrolled": true
   },
   "outputs": [],
   "source": [
    "grouped = post_2015_grad_courses.groupby(['ano_emprestimo','curso']).size().reset_index(name='Contagem')\n",
    "grouped = grouped[(grouped['curso'] == 'BIBLIOTECONOMIA') | \n",
    "                  (grouped['curso'] == 'CIÊNCIAS SOCIAIS') | \n",
    "                  (grouped['curso'] == 'COMUNICAÇÃO SOCIAL') | \n",
    "                  (grouped['curso'] == 'DIREITO') |\n",
    "                  (grouped['curso'] == 'FILOSOFIA') |\n",
    "                  (grouped['curso'] == 'PEDAGOGIA') ]\n",
    "\n",
    "grouped_pivot = pd.pivot_table(grouped, index='curso', columns='ano_emprestimo')\n",
    "grouped_pivot.loc[:,'Total'] = grouped_pivot.sum(axis=1)\n",
    "grouped_pivot.loc['Total',:] = grouped_pivot.sum(axis=0)"
   ]
  },
  {
   "cell_type": "code",
   "execution_count": 80,
   "metadata": {},
   "outputs": [],
   "source": [
    "grouped_pos = post_2017_posgrad_courses.groupby(['ano_emprestimo','curso']).size().reset_index(name='Contagem')\n",
    "grouped_pos_pivot = pd.pivot_table(grouped_pos, index='curso', columns='ano_emprestimo')"
   ]
  },
  {
   "cell_type": "code",
   "execution_count": 178,
   "metadata": {},
   "outputs": [
    {
     "data": {
      "text/html": [
       "<div>\n",
       "<style scoped>\n",
       "    .dataframe tbody tr th:only-of-type {\n",
       "        vertical-align: middle;\n",
       "    }\n",
       "\n",
       "    .dataframe tbody tr th {\n",
       "        vertical-align: top;\n",
       "    }\n",
       "\n",
       "    .dataframe thead tr th {\n",
       "        text-align: left;\n",
       "    }\n",
       "\n",
       "    .dataframe thead tr:last-of-type th {\n",
       "        text-align: right;\n",
       "    }\n",
       "</style>\n",
       "<table border=\"1\" class=\"dataframe\">\n",
       "  <thead>\n",
       "    <tr>\n",
       "      <th></th>\n",
       "      <th colspan=\"6\" halign=\"left\">Contagem</th>\n",
       "      <th>Total</th>\n",
       "    </tr>\n",
       "    <tr>\n",
       "      <th>ano_emprestimo</th>\n",
       "      <th>2015</th>\n",
       "      <th>2016</th>\n",
       "      <th>2017</th>\n",
       "      <th>2018</th>\n",
       "      <th>2019</th>\n",
       "      <th>2020</th>\n",
       "      <th></th>\n",
       "    </tr>\n",
       "    <tr>\n",
       "      <th>curso</th>\n",
       "      <th></th>\n",
       "      <th></th>\n",
       "      <th></th>\n",
       "      <th></th>\n",
       "      <th></th>\n",
       "      <th></th>\n",
       "      <th></th>\n",
       "    </tr>\n",
       "  </thead>\n",
       "  <tbody>\n",
       "    <tr>\n",
       "      <th>BIBLIOTECONOMIA</th>\n",
       "      <td>7994.0</td>\n",
       "      <td>3877.0</td>\n",
       "      <td>7661.0</td>\n",
       "      <td>6661.0</td>\n",
       "      <td>6264.0</td>\n",
       "      <td>945.0</td>\n",
       "      <td>33402.0</td>\n",
       "    </tr>\n",
       "    <tr>\n",
       "      <th>CIÊNCIAS SOCIAIS</th>\n",
       "      <td>7785.0</td>\n",
       "      <td>3813.0</td>\n",
       "      <td>7300.0</td>\n",
       "      <td>6478.0</td>\n",
       "      <td>6061.0</td>\n",
       "      <td>860.0</td>\n",
       "      <td>32297.0</td>\n",
       "    </tr>\n",
       "    <tr>\n",
       "      <th>COMUNICAÇÃO SOCIAL</th>\n",
       "      <td>7548.0</td>\n",
       "      <td>4635.0</td>\n",
       "      <td>8846.0</td>\n",
       "      <td>7420.0</td>\n",
       "      <td>6240.0</td>\n",
       "      <td>838.0</td>\n",
       "      <td>35527.0</td>\n",
       "    </tr>\n",
       "    <tr>\n",
       "      <th>DIREITO</th>\n",
       "      <td>7881.0</td>\n",
       "      <td>4087.0</td>\n",
       "      <td>8176.0</td>\n",
       "      <td>7265.0</td>\n",
       "      <td>6123.0</td>\n",
       "      <td>937.0</td>\n",
       "      <td>34469.0</td>\n",
       "    </tr>\n",
       "    <tr>\n",
       "      <th>FILOSOFIA</th>\n",
       "      <td>7362.0</td>\n",
       "      <td>4109.0</td>\n",
       "      <td>7798.0</td>\n",
       "      <td>6630.0</td>\n",
       "      <td>5876.0</td>\n",
       "      <td>865.0</td>\n",
       "      <td>32640.0</td>\n",
       "    </tr>\n",
       "    <tr>\n",
       "      <th>PEDAGOGIA</th>\n",
       "      <td>7579.0</td>\n",
       "      <td>4024.0</td>\n",
       "      <td>7912.0</td>\n",
       "      <td>6832.0</td>\n",
       "      <td>6186.0</td>\n",
       "      <td>916.0</td>\n",
       "      <td>33449.0</td>\n",
       "    </tr>\n",
       "    <tr>\n",
       "      <th>Total</th>\n",
       "      <td>46149.0</td>\n",
       "      <td>24545.0</td>\n",
       "      <td>47693.0</td>\n",
       "      <td>41286.0</td>\n",
       "      <td>36750.0</td>\n",
       "      <td>5361.0</td>\n",
       "      <td>201784.0</td>\n",
       "    </tr>\n",
       "  </tbody>\n",
       "</table>\n",
       "</div>"
      ],
      "text/plain": [
       "                   Contagem                                              \\\n",
       "ano_emprestimo         2015     2016     2017     2018     2019    2020   \n",
       "curso                                                                     \n",
       "BIBLIOTECONOMIA      7994.0   3877.0   7661.0   6661.0   6264.0   945.0   \n",
       "CIÊNCIAS SOCIAIS     7785.0   3813.0   7300.0   6478.0   6061.0   860.0   \n",
       "COMUNICAÇÃO SOCIAL   7548.0   4635.0   8846.0   7420.0   6240.0   838.0   \n",
       "DIREITO              7881.0   4087.0   8176.0   7265.0   6123.0   937.0   \n",
       "FILOSOFIA            7362.0   4109.0   7798.0   6630.0   5876.0   865.0   \n",
       "PEDAGOGIA            7579.0   4024.0   7912.0   6832.0   6186.0   916.0   \n",
       "Total               46149.0  24545.0  47693.0  41286.0  36750.0  5361.0   \n",
       "\n",
       "                       Total  \n",
       "ano_emprestimo                \n",
       "curso                         \n",
       "BIBLIOTECONOMIA      33402.0  \n",
       "CIÊNCIAS SOCIAIS     32297.0  \n",
       "COMUNICAÇÃO SOCIAL   35527.0  \n",
       "DIREITO              34469.0  \n",
       "FILOSOFIA            32640.0  \n",
       "PEDAGOGIA            33449.0  \n",
       "Total               201784.0  "
      ]
     },
     "execution_count": 178,
     "metadata": {},
     "output_type": "execute_result"
    }
   ],
   "source": [
    "grouped_pivot"
   ]
  },
  {
   "cell_type": "markdown",
   "metadata": {},
   "source": [
    "# Day 7 specifics"
   ]
  },
  {
   "cell_type": "code",
   "execution_count": 107,
   "metadata": {},
   "outputs": [],
   "source": [
    "df_curso_previsao_2022 = pd.DataFrame(curso_previsao_2022.items())"
   ]
  },
  {
   "cell_type": "code",
   "execution_count": 197,
   "metadata": {},
   "outputs": [],
   "source": [
    "grouped_pos_pivot_frame=grouped_pos_pivot['Contagem'].copy()"
   ]
  },
  {
   "cell_type": "code",
   "execution_count": 198,
   "metadata": {},
   "outputs": [],
   "source": [
    "grouped_pos_pivot_frame.loc[:,'2022'] = df_curso_previsao_2022[1][:].values\n",
    "grouped_pos_pivot_frame.drop(2020,axis=1,inplace=True)"
   ]
  },
  {
   "cell_type": "code",
   "execution_count": 200,
   "metadata": {},
   "outputs": [],
   "source": [
    "list17_18 =((grouped_pos_pivot_frame.loc[:,2018] - grouped_pos_pivot_frame.loc[:,2017])/grouped_pos_pivot_frame.loc[:,2017])*100\n",
    "list17_18 = ['{:.2f}%'.format(i) for i in list17_18]\n",
    "\n",
    "list18_19 =((grouped_pos_pivot_frame.loc[:,2019] - grouped_pos_pivot_frame.loc[:,2018])/grouped_pos_pivot_frame.loc[:,2018])*100\n",
    "list18_19 = ['{:.2f}%'.format(i) for i in list18_19]\n",
    "\n",
    "list19_22 =((grouped_pos_pivot_frame.loc[:,'2022'] - grouped_pos_pivot_frame.loc[:,2019])/grouped_pos_pivot_frame.loc[:,2019])*100\n",
    "list19_22 = ['{:.2f}%'.format(i) for i in list19_22]"
   ]
  },
  {
   "cell_type": "code",
   "execution_count": 201,
   "metadata": {},
   "outputs": [],
   "source": [
    "grouped_pos_pivot_frame.loc[:,2017] = list17_18\n",
    "grouped_pos_pivot_frame.loc[:,2018] = list18_19\n",
    "grouped_pos_pivot_frame.loc[:,2019] = list19_22\n",
    "grouped_pos_pivot_frame.drop('2022',axis=1,inplace=True)"
   ]
  },
  {
   "cell_type": "code",
   "execution_count": 202,
   "metadata": {},
   "outputs": [],
   "source": [
    "grouped_pos_pivot_frame.rename(columns={2017: '2017-2018',2018: '2018-2019',2019: '2019-2022'},inplace=True)"
   ]
  },
  {
   "cell_type": "code",
   "execution_count": 220,
   "metadata": {},
   "outputs": [],
   "source": [
    "grouped_pos_pivot_frame.index = [curso.capitalize() for curso in grouped_pos_pivot_frame.index]"
   ]
  },
  {
   "cell_type": "code",
   "execution_count": 242,
   "metadata": {
    "scrolled": false
   },
   "outputs": [],
   "source": [
    "grouped_pos_pivot_frame.columns.name = 'Mudança % entre'"
   ]
  },
  {
   "cell_type": "code",
   "execution_count": 189,
   "metadata": {},
   "outputs": [],
   "source": [
    "def get_value(percentage):\n",
    "    a = percentage[:-1]\n",
    "    return float(a)"
   ]
  },
  {
   "cell_type": "code",
   "execution_count": 244,
   "metadata": {},
   "outputs": [],
   "source": [
    "html_final = grouped_pos_pivot_frame.style.applymap(lambda x: 'color: green' if get_value(x)>0 else 'color: red')"
   ]
  },
  {
   "cell_type": "code",
   "execution_count": 245,
   "metadata": {},
   "outputs": [
    {
     "data": {
      "text/html": [
       "<style  type=\"text/css\" >\n",
       "    #T_9f872152_52b3_11ef_a23b_988389e8eb8drow0_col0 {\n",
       "            color:  red;\n",
       "        }    #T_9f872152_52b3_11ef_a23b_988389e8eb8drow0_col1 {\n",
       "            color:  red;\n",
       "        }    #T_9f872152_52b3_11ef_a23b_988389e8eb8drow0_col2 {\n",
       "            color:  green;\n",
       "        }    #T_9f872152_52b3_11ef_a23b_988389e8eb8drow1_col0 {\n",
       "            color:  red;\n",
       "        }    #T_9f872152_52b3_11ef_a23b_988389e8eb8drow1_col1 {\n",
       "            color:  red;\n",
       "        }    #T_9f872152_52b3_11ef_a23b_988389e8eb8drow1_col2 {\n",
       "            color:  green;\n",
       "        }    #T_9f872152_52b3_11ef_a23b_988389e8eb8drow2_col0 {\n",
       "            color:  red;\n",
       "        }    #T_9f872152_52b3_11ef_a23b_988389e8eb8drow2_col1 {\n",
       "            color:  red;\n",
       "        }    #T_9f872152_52b3_11ef_a23b_988389e8eb8drow2_col2 {\n",
       "            color:  green;\n",
       "        }    #T_9f872152_52b3_11ef_a23b_988389e8eb8drow3_col0 {\n",
       "            color:  red;\n",
       "        }    #T_9f872152_52b3_11ef_a23b_988389e8eb8drow3_col1 {\n",
       "            color:  red;\n",
       "        }    #T_9f872152_52b3_11ef_a23b_988389e8eb8drow3_col2 {\n",
       "            color:  green;\n",
       "        }    #T_9f872152_52b3_11ef_a23b_988389e8eb8drow4_col0 {\n",
       "            color:  red;\n",
       "        }    #T_9f872152_52b3_11ef_a23b_988389e8eb8drow4_col1 {\n",
       "            color:  green;\n",
       "        }    #T_9f872152_52b3_11ef_a23b_988389e8eb8drow4_col2 {\n",
       "            color:  red;\n",
       "        }    #T_9f872152_52b3_11ef_a23b_988389e8eb8drow5_col0 {\n",
       "            color:  red;\n",
       "        }    #T_9f872152_52b3_11ef_a23b_988389e8eb8drow5_col1 {\n",
       "            color:  red;\n",
       "        }    #T_9f872152_52b3_11ef_a23b_988389e8eb8drow5_col2 {\n",
       "            color:  red;\n",
       "        }    #T_9f872152_52b3_11ef_a23b_988389e8eb8drow6_col0 {\n",
       "            color:  red;\n",
       "        }    #T_9f872152_52b3_11ef_a23b_988389e8eb8drow6_col1 {\n",
       "            color:  red;\n",
       "        }    #T_9f872152_52b3_11ef_a23b_988389e8eb8drow6_col2 {\n",
       "            color:  red;\n",
       "        }    #T_9f872152_52b3_11ef_a23b_988389e8eb8drow7_col0 {\n",
       "            color:  red;\n",
       "        }    #T_9f872152_52b3_11ef_a23b_988389e8eb8drow7_col1 {\n",
       "            color:  red;\n",
       "        }    #T_9f872152_52b3_11ef_a23b_988389e8eb8drow7_col2 {\n",
       "            color:  red;\n",
       "        }    #T_9f872152_52b3_11ef_a23b_988389e8eb8drow8_col0 {\n",
       "            color:  green;\n",
       "        }    #T_9f872152_52b3_11ef_a23b_988389e8eb8drow8_col1 {\n",
       "            color:  red;\n",
       "        }    #T_9f872152_52b3_11ef_a23b_988389e8eb8drow8_col2 {\n",
       "            color:  green;\n",
       "        }    #T_9f872152_52b3_11ef_a23b_988389e8eb8drow9_col0 {\n",
       "            color:  red;\n",
       "        }    #T_9f872152_52b3_11ef_a23b_988389e8eb8drow9_col1 {\n",
       "            color:  green;\n",
       "        }    #T_9f872152_52b3_11ef_a23b_988389e8eb8drow9_col2 {\n",
       "            color:  red;\n",
       "        }    #T_9f872152_52b3_11ef_a23b_988389e8eb8drow10_col0 {\n",
       "            color:  red;\n",
       "        }    #T_9f872152_52b3_11ef_a23b_988389e8eb8drow10_col1 {\n",
       "            color:  red;\n",
       "        }    #T_9f872152_52b3_11ef_a23b_988389e8eb8drow10_col2 {\n",
       "            color:  red;\n",
       "        }    #T_9f872152_52b3_11ef_a23b_988389e8eb8drow11_col0 {\n",
       "            color:  red;\n",
       "        }    #T_9f872152_52b3_11ef_a23b_988389e8eb8drow11_col1 {\n",
       "            color:  red;\n",
       "        }    #T_9f872152_52b3_11ef_a23b_988389e8eb8drow11_col2 {\n",
       "            color:  red;\n",
       "        }    #T_9f872152_52b3_11ef_a23b_988389e8eb8drow12_col0 {\n",
       "            color:  red;\n",
       "        }    #T_9f872152_52b3_11ef_a23b_988389e8eb8drow12_col1 {\n",
       "            color:  red;\n",
       "        }    #T_9f872152_52b3_11ef_a23b_988389e8eb8drow12_col2 {\n",
       "            color:  green;\n",
       "        }    #T_9f872152_52b3_11ef_a23b_988389e8eb8drow13_col0 {\n",
       "            color:  red;\n",
       "        }    #T_9f872152_52b3_11ef_a23b_988389e8eb8drow13_col1 {\n",
       "            color:  red;\n",
       "        }    #T_9f872152_52b3_11ef_a23b_988389e8eb8drow13_col2 {\n",
       "            color:  green;\n",
       "        }</style><table id=\"T_9f872152_52b3_11ef_a23b_988389e8eb8d\" ><thead>    <tr>        <th class=\"index_name level0\" >Mudança % entre</th>        <th class=\"col_heading level0 col0\" >2017-2018</th>        <th class=\"col_heading level0 col1\" >2018-2019</th>        <th class=\"col_heading level0 col2\" >2019-2022</th>    </tr>    <tr>        <th class=\"index_name level0\" ></th>        <th class=\"blank\" ></th>        <th class=\"blank\" ></th>        <th class=\"blank\" ></th>    </tr></thead><tbody>\n",
       "                <tr>\n",
       "                        <th id=\"T_9f872152_52b3_11ef_a23b_988389e8eb8dlevel0_row0\" class=\"row_heading level0 row0\" >Administração</th>\n",
       "                        <td id=\"T_9f872152_52b3_11ef_a23b_988389e8eb8drow0_col0\" class=\"data row0 col0\" >-10.85%</td>\n",
       "                        <td id=\"T_9f872152_52b3_11ef_a23b_988389e8eb8drow0_col1\" class=\"data row0 col1\" >-26.31%</td>\n",
       "                        <td id=\"T_9f872152_52b3_11ef_a23b_988389e8eb8drow0_col2\" class=\"data row0 col2\" >8.12%</td>\n",
       "            </tr>\n",
       "            <tr>\n",
       "                        <th id=\"T_9f872152_52b3_11ef_a23b_988389e8eb8dlevel0_row1\" class=\"row_heading level0 row1\" >Arquitetura e urbanismo</th>\n",
       "                        <td id=\"T_9f872152_52b3_11ef_a23b_988389e8eb8drow1_col0\" class=\"data row1 col0\" >-13.37%</td>\n",
       "                        <td id=\"T_9f872152_52b3_11ef_a23b_988389e8eb8drow1_col1\" class=\"data row1 col1\" >-6.42%</td>\n",
       "                        <td id=\"T_9f872152_52b3_11ef_a23b_988389e8eb8drow1_col2\" class=\"data row1 col2\" >1.55%</td>\n",
       "            </tr>\n",
       "            <tr>\n",
       "                        <th id=\"T_9f872152_52b3_11ef_a23b_988389e8eb8dlevel0_row2\" class=\"row_heading level0 row2\" >Artes cênicas</th>\n",
       "                        <td id=\"T_9f872152_52b3_11ef_a23b_988389e8eb8drow2_col0\" class=\"data row2 col0\" >-2.26%</td>\n",
       "                        <td id=\"T_9f872152_52b3_11ef_a23b_988389e8eb8drow2_col1\" class=\"data row2 col1\" >-12.55%</td>\n",
       "                        <td id=\"T_9f872152_52b3_11ef_a23b_988389e8eb8drow2_col2\" class=\"data row2 col2\" >1.32%</td>\n",
       "            </tr>\n",
       "            <tr>\n",
       "                        <th id=\"T_9f872152_52b3_11ef_a23b_988389e8eb8dlevel0_row3\" class=\"row_heading level0 row3\" >Bioinformática</th>\n",
       "                        <td id=\"T_9f872152_52b3_11ef_a23b_988389e8eb8drow3_col0\" class=\"data row3 col0\" >-13.93%</td>\n",
       "                        <td id=\"T_9f872152_52b3_11ef_a23b_988389e8eb8drow3_col1\" class=\"data row3 col1\" >-5.08%</td>\n",
       "                        <td id=\"T_9f872152_52b3_11ef_a23b_988389e8eb8drow3_col2\" class=\"data row3 col2\" >21.86%</td>\n",
       "            </tr>\n",
       "            <tr>\n",
       "                        <th id=\"T_9f872152_52b3_11ef_a23b_988389e8eb8dlevel0_row4\" class=\"row_heading level0 row4\" >Bioquímica</th>\n",
       "                        <td id=\"T_9f872152_52b3_11ef_a23b_988389e8eb8drow4_col0\" class=\"data row4 col0\" >-15.47%</td>\n",
       "                        <td id=\"T_9f872152_52b3_11ef_a23b_988389e8eb8drow4_col1\" class=\"data row4 col1\" >5.14%</td>\n",
       "                        <td id=\"T_9f872152_52b3_11ef_a23b_988389e8eb8drow4_col2\" class=\"data row4 col2\" >-1.69%</td>\n",
       "            </tr>\n",
       "            <tr>\n",
       "                        <th id=\"T_9f872152_52b3_11ef_a23b_988389e8eb8dlevel0_row5\" class=\"row_heading level0 row5\" >Ciência e engenharia de materiais</th>\n",
       "                        <td id=\"T_9f872152_52b3_11ef_a23b_988389e8eb8drow5_col0\" class=\"data row5 col0\" >-8.62%</td>\n",
       "                        <td id=\"T_9f872152_52b3_11ef_a23b_988389e8eb8drow5_col1\" class=\"data row5 col1\" >-6.12%</td>\n",
       "                        <td id=\"T_9f872152_52b3_11ef_a23b_988389e8eb8drow5_col2\" class=\"data row5 col2\" >-4.29%</td>\n",
       "            </tr>\n",
       "            <tr>\n",
       "                        <th id=\"T_9f872152_52b3_11ef_a23b_988389e8eb8dlevel0_row6\" class=\"row_heading level0 row6\" >Ciência, tecnologia e inovação</th>\n",
       "                        <td id=\"T_9f872152_52b3_11ef_a23b_988389e8eb8drow6_col0\" class=\"data row6 col0\" >-3.16%</td>\n",
       "                        <td id=\"T_9f872152_52b3_11ef_a23b_988389e8eb8drow6_col1\" class=\"data row6 col1\" >-14.28%</td>\n",
       "                        <td id=\"T_9f872152_52b3_11ef_a23b_988389e8eb8drow6_col2\" class=\"data row6 col2\" >-6.71%</td>\n",
       "            </tr>\n",
       "            <tr>\n",
       "                        <th id=\"T_9f872152_52b3_11ef_a23b_988389e8eb8dlevel0_row7\" class=\"row_heading level0 row7\" >Ciências da saúde</th>\n",
       "                        <td id=\"T_9f872152_52b3_11ef_a23b_988389e8eb8drow7_col0\" class=\"data row7 col0\" >-19.33%</td>\n",
       "                        <td id=\"T_9f872152_52b3_11ef_a23b_988389e8eb8drow7_col1\" class=\"data row7 col1\" >-9.29%</td>\n",
       "                        <td id=\"T_9f872152_52b3_11ef_a23b_988389e8eb8drow7_col2\" class=\"data row7 col2\" >-7.68%</td>\n",
       "            </tr>\n",
       "            <tr>\n",
       "                        <th id=\"T_9f872152_52b3_11ef_a23b_988389e8eb8dlevel0_row8\" class=\"row_heading level0 row8\" >Ciências odontológicas</th>\n",
       "                        <td id=\"T_9f872152_52b3_11ef_a23b_988389e8eb8drow8_col0\" class=\"data row8 col0\" >6.57%</td>\n",
       "                        <td id=\"T_9f872152_52b3_11ef_a23b_988389e8eb8drow8_col1\" class=\"data row8 col1\" >-16.20%</td>\n",
       "                        <td id=\"T_9f872152_52b3_11ef_a23b_988389e8eb8drow8_col2\" class=\"data row8 col2\" >7.90%</td>\n",
       "            </tr>\n",
       "            <tr>\n",
       "                        <th id=\"T_9f872152_52b3_11ef_a23b_988389e8eb8dlevel0_row9\" class=\"row_heading level0 row9\" >Design</th>\n",
       "                        <td id=\"T_9f872152_52b3_11ef_a23b_988389e8eb8drow9_col0\" class=\"data row9 col0\" >-19.85%</td>\n",
       "                        <td id=\"T_9f872152_52b3_11ef_a23b_988389e8eb8drow9_col1\" class=\"data row9 col1\" >0.58%</td>\n",
       "                        <td id=\"T_9f872152_52b3_11ef_a23b_988389e8eb8drow9_col2\" class=\"data row9 col2\" >-0.89%</td>\n",
       "            </tr>\n",
       "            <tr>\n",
       "                        <th id=\"T_9f872152_52b3_11ef_a23b_988389e8eb8dlevel0_row10\" class=\"row_heading level0 row10\" >Engenharia civil</th>\n",
       "                        <td id=\"T_9f872152_52b3_11ef_a23b_988389e8eb8drow10_col0\" class=\"data row10 col0\" >-15.34%</td>\n",
       "                        <td id=\"T_9f872152_52b3_11ef_a23b_988389e8eb8drow10_col1\" class=\"data row10 col1\" >-4.17%</td>\n",
       "                        <td id=\"T_9f872152_52b3_11ef_a23b_988389e8eb8drow10_col2\" class=\"data row10 col2\" >-7.16%</td>\n",
       "            </tr>\n",
       "            <tr>\n",
       "                        <th id=\"T_9f872152_52b3_11ef_a23b_988389e8eb8dlevel0_row11\" class=\"row_heading level0 row11\" >Engenharia de software</th>\n",
       "                        <td id=\"T_9f872152_52b3_11ef_a23b_988389e8eb8drow11_col0\" class=\"data row11 col0\" >-10.44%</td>\n",
       "                        <td id=\"T_9f872152_52b3_11ef_a23b_988389e8eb8drow11_col1\" class=\"data row11 col1\" >-14.67%</td>\n",
       "                        <td id=\"T_9f872152_52b3_11ef_a23b_988389e8eb8drow11_col2\" class=\"data row11 col2\" >-3.32%</td>\n",
       "            </tr>\n",
       "            <tr>\n",
       "                        <th id=\"T_9f872152_52b3_11ef_a23b_988389e8eb8dlevel0_row12\" class=\"row_heading level0 row12\" >Filosofia</th>\n",
       "                        <td id=\"T_9f872152_52b3_11ef_a23b_988389e8eb8drow12_col0\" class=\"data row12 col0\" >-5.60%</td>\n",
       "                        <td id=\"T_9f872152_52b3_11ef_a23b_988389e8eb8drow12_col1\" class=\"data row12 col1\" >-13.31%</td>\n",
       "                        <td id=\"T_9f872152_52b3_11ef_a23b_988389e8eb8drow12_col2\" class=\"data row12 col2\" >2.53%</td>\n",
       "            </tr>\n",
       "            <tr>\n",
       "                        <th id=\"T_9f872152_52b3_11ef_a23b_988389e8eb8dlevel0_row13\" class=\"row_heading level0 row13\" >Gestão da informação e do conhecimento</th>\n",
       "                        <td id=\"T_9f872152_52b3_11ef_a23b_988389e8eb8drow13_col0\" class=\"data row13 col0\" >-16.67%</td>\n",
       "                        <td id=\"T_9f872152_52b3_11ef_a23b_988389e8eb8drow13_col1\" class=\"data row13 col1\" >-7.39%</td>\n",
       "                        <td id=\"T_9f872152_52b3_11ef_a23b_988389e8eb8drow13_col2\" class=\"data row13 col2\" >1.42%</td>\n",
       "            </tr>\n",
       "    </tbody></table>"
      ],
      "text/plain": [
       "<pandas.io.formats.style.Styler at 0x1ac61271648>"
      ]
     },
     "execution_count": 245,
     "metadata": {},
     "output_type": "execute_result"
    }
   ],
   "source": [
    "html_final"
   ]
  },
  {
   "cell_type": "code",
   "execution_count": 258,
   "metadata": {
    "collapsed": true
   },
   "outputs": [
    {
     "name": "stdout",
     "output_type": "stream",
     "text": [
      "<style  type=\"text/css\" >\n",
      "    #T_4cec89b8_52b5_11ef_9be1_988389e8eb8drow0_col0 {\n",
      "            color:  red;\n",
      "            color:  red;\n",
      "            color:  red;\n",
      "        }    #T_4cec89b8_52b5_11ef_9be1_988389e8eb8drow0_col1 {\n",
      "            color:  red;\n",
      "            color:  red;\n",
      "            color:  red;\n",
      "        }    #T_4cec89b8_52b5_11ef_9be1_988389e8eb8drow0_col2 {\n",
      "            color:  green;\n",
      "            color:  green;\n",
      "            color:  green;\n",
      "        }    #T_4cec89b8_52b5_11ef_9be1_988389e8eb8drow1_col0 {\n",
      "            color:  red;\n",
      "            color:  red;\n",
      "            color:  red;\n",
      "        }    #T_4cec89b8_52b5_11ef_9be1_988389e8eb8drow1_col1 {\n",
      "            color:  red;\n",
      "            color:  red;\n",
      "            color:  red;\n",
      "        }    #T_4cec89b8_52b5_11ef_9be1_988389e8eb8drow1_col2 {\n",
      "            color:  green;\n",
      "            color:  green;\n",
      "            color:  green;\n",
      "        }    #T_4cec89b8_52b5_11ef_9be1_988389e8eb8drow2_col0 {\n",
      "            color:  red;\n",
      "            color:  red;\n",
      "            color:  red;\n",
      "        }    #T_4cec89b8_52b5_11ef_9be1_988389e8eb8drow2_col1 {\n",
      "            color:  red;\n",
      "            color:  red;\n",
      "            color:  red;\n",
      "        }    #T_4cec89b8_52b5_11ef_9be1_988389e8eb8drow2_col2 {\n",
      "            color:  green;\n",
      "            color:  green;\n",
      "            color:  green;\n",
      "        }    #T_4cec89b8_52b5_11ef_9be1_988389e8eb8drow3_col0 {\n",
      "            color:  red;\n",
      "            color:  red;\n",
      "            color:  red;\n",
      "        }    #T_4cec89b8_52b5_11ef_9be1_988389e8eb8drow3_col1 {\n",
      "            color:  red;\n",
      "            color:  red;\n",
      "            color:  red;\n",
      "        }    #T_4cec89b8_52b5_11ef_9be1_988389e8eb8drow3_col2 {\n",
      "            color:  green;\n",
      "            color:  green;\n",
      "            color:  green;\n",
      "        }    #T_4cec89b8_52b5_11ef_9be1_988389e8eb8drow4_col0 {\n",
      "            color:  red;\n",
      "            color:  red;\n",
      "            color:  red;\n",
      "        }    #T_4cec89b8_52b5_11ef_9be1_988389e8eb8drow4_col1 {\n",
      "            color:  green;\n",
      "            color:  green;\n",
      "            color:  green;\n",
      "        }    #T_4cec89b8_52b5_11ef_9be1_988389e8eb8drow4_col2 {\n",
      "            color:  red;\n",
      "            color:  red;\n",
      "            color:  red;\n",
      "        }    #T_4cec89b8_52b5_11ef_9be1_988389e8eb8drow5_col0 {\n",
      "            color:  red;\n",
      "            color:  red;\n",
      "            color:  red;\n",
      "        }    #T_4cec89b8_52b5_11ef_9be1_988389e8eb8drow5_col1 {\n",
      "            color:  red;\n",
      "            color:  red;\n",
      "            color:  red;\n",
      "        }    #T_4cec89b8_52b5_11ef_9be1_988389e8eb8drow5_col2 {\n",
      "            color:  red;\n",
      "            color:  red;\n",
      "            color:  red;\n",
      "        }    #T_4cec89b8_52b5_11ef_9be1_988389e8eb8drow6_col0 {\n",
      "            color:  red;\n",
      "            color:  red;\n",
      "            color:  red;\n",
      "        }    #T_4cec89b8_52b5_11ef_9be1_988389e8eb8drow6_col1 {\n",
      "            color:  red;\n",
      "            color:  red;\n",
      "            color:  red;\n",
      "        }    #T_4cec89b8_52b5_11ef_9be1_988389e8eb8drow6_col2 {\n",
      "            color:  red;\n",
      "            color:  red;\n",
      "            color:  red;\n",
      "        }    #T_4cec89b8_52b5_11ef_9be1_988389e8eb8drow7_col0 {\n",
      "            color:  red;\n",
      "            color:  red;\n",
      "            color:  red;\n",
      "        }    #T_4cec89b8_52b5_11ef_9be1_988389e8eb8drow7_col1 {\n",
      "            color:  red;\n",
      "            color:  red;\n",
      "            color:  red;\n",
      "        }    #T_4cec89b8_52b5_11ef_9be1_988389e8eb8drow7_col2 {\n",
      "            color:  red;\n",
      "            color:  red;\n",
      "            color:  red;\n",
      "        }    #T_4cec89b8_52b5_11ef_9be1_988389e8eb8drow8_col0 {\n",
      "            color:  green;\n",
      "            color:  green;\n",
      "            color:  green;\n",
      "        }    #T_4cec89b8_52b5_11ef_9be1_988389e8eb8drow8_col1 {\n",
      "            color:  red;\n",
      "            color:  red;\n",
      "            color:  red;\n",
      "        }    #T_4cec89b8_52b5_11ef_9be1_988389e8eb8drow8_col2 {\n",
      "            color:  green;\n",
      "            color:  green;\n",
      "            color:  green;\n",
      "        }    #T_4cec89b8_52b5_11ef_9be1_988389e8eb8drow9_col0 {\n",
      "            color:  red;\n",
      "            color:  red;\n",
      "            color:  red;\n",
      "        }    #T_4cec89b8_52b5_11ef_9be1_988389e8eb8drow9_col1 {\n",
      "            color:  green;\n",
      "            color:  green;\n",
      "            color:  green;\n",
      "        }    #T_4cec89b8_52b5_11ef_9be1_988389e8eb8drow9_col2 {\n",
      "            color:  red;\n",
      "            color:  red;\n",
      "            color:  red;\n",
      "        }    #T_4cec89b8_52b5_11ef_9be1_988389e8eb8drow10_col0 {\n",
      "            color:  red;\n",
      "            color:  red;\n",
      "            color:  red;\n",
      "        }    #T_4cec89b8_52b5_11ef_9be1_988389e8eb8drow10_col1 {\n",
      "            color:  red;\n",
      "            color:  red;\n",
      "            color:  red;\n",
      "        }    #T_4cec89b8_52b5_11ef_9be1_988389e8eb8drow10_col2 {\n",
      "            color:  red;\n",
      "            color:  red;\n",
      "            color:  red;\n",
      "        }    #T_4cec89b8_52b5_11ef_9be1_988389e8eb8drow11_col0 {\n",
      "            color:  red;\n",
      "            color:  red;\n",
      "            color:  red;\n",
      "        }    #T_4cec89b8_52b5_11ef_9be1_988389e8eb8drow11_col1 {\n",
      "            color:  red;\n",
      "            color:  red;\n",
      "            color:  red;\n",
      "        }    #T_4cec89b8_52b5_11ef_9be1_988389e8eb8drow11_col2 {\n",
      "            color:  red;\n",
      "            color:  red;\n",
      "            color:  red;\n",
      "        }    #T_4cec89b8_52b5_11ef_9be1_988389e8eb8drow12_col0 {\n",
      "            color:  red;\n",
      "            color:  red;\n",
      "            color:  red;\n",
      "        }    #T_4cec89b8_52b5_11ef_9be1_988389e8eb8drow12_col1 {\n",
      "            color:  red;\n",
      "            color:  red;\n",
      "            color:  red;\n",
      "        }    #T_4cec89b8_52b5_11ef_9be1_988389e8eb8drow12_col2 {\n",
      "            color:  green;\n",
      "            color:  green;\n",
      "            color:  green;\n",
      "        }    #T_4cec89b8_52b5_11ef_9be1_988389e8eb8drow13_col0 {\n",
      "            color:  red;\n",
      "            color:  red;\n",
      "            color:  red;\n",
      "        }    #T_4cec89b8_52b5_11ef_9be1_988389e8eb8drow13_col1 {\n",
      "            color:  red;\n",
      "            color:  red;\n",
      "            color:  red;\n",
      "        }    #T_4cec89b8_52b5_11ef_9be1_988389e8eb8drow13_col2 {\n",
      "            color:  green;\n",
      "            color:  green;\n",
      "            color:  green;\n",
      "        }</style><table id=\"T_4cec89b8_52b5_11ef_9be1_988389e8eb8d\" ><thead>    <tr>        <th class=\"index_name level0\" >Mudança % entre</th>        <th class=\"col_heading level0 col0\" >2017-2018</th>        <th class=\"col_heading level0 col1\" >2018-2019</th>        <th class=\"col_heading level0 col2\" >2019-2022</th>    </tr>    <tr>        <th class=\"index_name level0\" ></th>        <th class=\"blank\" ></th>        <th class=\"blank\" ></th>        <th class=\"blank\" ></th>    </tr></thead><tbody>\n",
      "                <tr>\n",
      "                        <th id=\"T_4cec89b8_52b5_11ef_9be1_988389e8eb8dlevel0_row0\" class=\"row_heading level0 row0\" >Administração</th>\n",
      "                        <td id=\"T_4cec89b8_52b5_11ef_9be1_988389e8eb8drow0_col0\" class=\"data row0 col0\" >-10.85%</td>\n",
      "                        <td id=\"T_4cec89b8_52b5_11ef_9be1_988389e8eb8drow0_col1\" class=\"data row0 col1\" >-26.31%</td>\n",
      "                        <td id=\"T_4cec89b8_52b5_11ef_9be1_988389e8eb8drow0_col2\" class=\"data row0 col2\" >8.12%</td>\n",
      "            </tr>\n",
      "            <tr>\n",
      "                        <th id=\"T_4cec89b8_52b5_11ef_9be1_988389e8eb8dlevel0_row1\" class=\"row_heading level0 row1\" >Arquitetura e urbanismo</th>\n",
      "                        <td id=\"T_4cec89b8_52b5_11ef_9be1_988389e8eb8drow1_col0\" class=\"data row1 col0\" >-13.37%</td>\n",
      "                        <td id=\"T_4cec89b8_52b5_11ef_9be1_988389e8eb8drow1_col1\" class=\"data row1 col1\" >-6.42%</td>\n",
      "                        <td id=\"T_4cec89b8_52b5_11ef_9be1_988389e8eb8drow1_col2\" class=\"data row1 col2\" >1.55%</td>\n",
      "            </tr>\n",
      "            <tr>\n",
      "                        <th id=\"T_4cec89b8_52b5_11ef_9be1_988389e8eb8dlevel0_row2\" class=\"row_heading level0 row2\" >Artes cênicas</th>\n",
      "                        <td id=\"T_4cec89b8_52b5_11ef_9be1_988389e8eb8drow2_col0\" class=\"data row2 col0\" >-2.26%</td>\n",
      "                        <td id=\"T_4cec89b8_52b5_11ef_9be1_988389e8eb8drow2_col1\" class=\"data row2 col1\" >-12.55%</td>\n",
      "                        <td id=\"T_4cec89b8_52b5_11ef_9be1_988389e8eb8drow2_col2\" class=\"data row2 col2\" >1.32%</td>\n",
      "            </tr>\n",
      "            <tr>\n",
      "                        <th id=\"T_4cec89b8_52b5_11ef_9be1_988389e8eb8dlevel0_row3\" class=\"row_heading level0 row3\" >Bioinformática</th>\n",
      "                        <td id=\"T_4cec89b8_52b5_11ef_9be1_988389e8eb8drow3_col0\" class=\"data row3 col0\" >-13.93%</td>\n",
      "                        <td id=\"T_4cec89b8_52b5_11ef_9be1_988389e8eb8drow3_col1\" class=\"data row3 col1\" >-5.08%</td>\n",
      "                        <td id=\"T_4cec89b8_52b5_11ef_9be1_988389e8eb8drow3_col2\" class=\"data row3 col2\" >21.86%</td>\n",
      "            </tr>\n",
      "            <tr>\n",
      "                        <th id=\"T_4cec89b8_52b5_11ef_9be1_988389e8eb8dlevel0_row4\" class=\"row_heading level0 row4\" >Bioquímica</th>\n",
      "                        <td id=\"T_4cec89b8_52b5_11ef_9be1_988389e8eb8drow4_col0\" class=\"data row4 col0\" >-15.47%</td>\n",
      "                        <td id=\"T_4cec89b8_52b5_11ef_9be1_988389e8eb8drow4_col1\" class=\"data row4 col1\" >5.14%</td>\n",
      "                        <td id=\"T_4cec89b8_52b5_11ef_9be1_988389e8eb8drow4_col2\" class=\"data row4 col2\" >-1.69%</td>\n",
      "            </tr>\n",
      "            <tr>\n",
      "                        <th id=\"T_4cec89b8_52b5_11ef_9be1_988389e8eb8dlevel0_row5\" class=\"row_heading level0 row5\" >Ciência e engenharia de materiais</th>\n",
      "                        <td id=\"T_4cec89b8_52b5_11ef_9be1_988389e8eb8drow5_col0\" class=\"data row5 col0\" >-8.62%</td>\n",
      "                        <td id=\"T_4cec89b8_52b5_11ef_9be1_988389e8eb8drow5_col1\" class=\"data row5 col1\" >-6.12%</td>\n",
      "                        <td id=\"T_4cec89b8_52b5_11ef_9be1_988389e8eb8drow5_col2\" class=\"data row5 col2\" >-4.29%</td>\n",
      "            </tr>\n",
      "            <tr>\n",
      "                        <th id=\"T_4cec89b8_52b5_11ef_9be1_988389e8eb8dlevel0_row6\" class=\"row_heading level0 row6\" >Ciência, tecnologia e inovação</th>\n",
      "                        <td id=\"T_4cec89b8_52b5_11ef_9be1_988389e8eb8drow6_col0\" class=\"data row6 col0\" >-3.16%</td>\n",
      "                        <td id=\"T_4cec89b8_52b5_11ef_9be1_988389e8eb8drow6_col1\" class=\"data row6 col1\" >-14.28%</td>\n",
      "                        <td id=\"T_4cec89b8_52b5_11ef_9be1_988389e8eb8drow6_col2\" class=\"data row6 col2\" >-6.71%</td>\n",
      "            </tr>\n",
      "            <tr>\n",
      "                        <th id=\"T_4cec89b8_52b5_11ef_9be1_988389e8eb8dlevel0_row7\" class=\"row_heading level0 row7\" >Ciências da saúde</th>\n",
      "                        <td id=\"T_4cec89b8_52b5_11ef_9be1_988389e8eb8drow7_col0\" class=\"data row7 col0\" >-19.33%</td>\n",
      "                        <td id=\"T_4cec89b8_52b5_11ef_9be1_988389e8eb8drow7_col1\" class=\"data row7 col1\" >-9.29%</td>\n",
      "                        <td id=\"T_4cec89b8_52b5_11ef_9be1_988389e8eb8drow7_col2\" class=\"data row7 col2\" >-7.68%</td>\n",
      "            </tr>\n",
      "            <tr>\n",
      "                        <th id=\"T_4cec89b8_52b5_11ef_9be1_988389e8eb8dlevel0_row8\" class=\"row_heading level0 row8\" >Ciências odontológicas</th>\n",
      "                        <td id=\"T_4cec89b8_52b5_11ef_9be1_988389e8eb8drow8_col0\" class=\"data row8 col0\" >6.57%</td>\n",
      "                        <td id=\"T_4cec89b8_52b5_11ef_9be1_988389e8eb8drow8_col1\" class=\"data row8 col1\" >-16.20%</td>\n",
      "                        <td id=\"T_4cec89b8_52b5_11ef_9be1_988389e8eb8drow8_col2\" class=\"data row8 col2\" >7.90%</td>\n",
      "            </tr>\n",
      "            <tr>\n",
      "                        <th id=\"T_4cec89b8_52b5_11ef_9be1_988389e8eb8dlevel0_row9\" class=\"row_heading level0 row9\" >Design</th>\n",
      "                        <td id=\"T_4cec89b8_52b5_11ef_9be1_988389e8eb8drow9_col0\" class=\"data row9 col0\" >-19.85%</td>\n",
      "                        <td id=\"T_4cec89b8_52b5_11ef_9be1_988389e8eb8drow9_col1\" class=\"data row9 col1\" >0.58%</td>\n",
      "                        <td id=\"T_4cec89b8_52b5_11ef_9be1_988389e8eb8drow9_col2\" class=\"data row9 col2\" >-0.89%</td>\n",
      "            </tr>\n",
      "            <tr>\n",
      "                        <th id=\"T_4cec89b8_52b5_11ef_9be1_988389e8eb8dlevel0_row10\" class=\"row_heading level0 row10\" >Engenharia civil</th>\n",
      "                        <td id=\"T_4cec89b8_52b5_11ef_9be1_988389e8eb8drow10_col0\" class=\"data row10 col0\" >-15.34%</td>\n",
      "                        <td id=\"T_4cec89b8_52b5_11ef_9be1_988389e8eb8drow10_col1\" class=\"data row10 col1\" >-4.17%</td>\n",
      "                        <td id=\"T_4cec89b8_52b5_11ef_9be1_988389e8eb8drow10_col2\" class=\"data row10 col2\" >-7.16%</td>\n",
      "            </tr>\n",
      "            <tr>\n",
      "                        <th id=\"T_4cec89b8_52b5_11ef_9be1_988389e8eb8dlevel0_row11\" class=\"row_heading level0 row11\" >Engenharia de software</th>\n",
      "                        <td id=\"T_4cec89b8_52b5_11ef_9be1_988389e8eb8drow11_col0\" class=\"data row11 col0\" >-10.44%</td>\n",
      "                        <td id=\"T_4cec89b8_52b5_11ef_9be1_988389e8eb8drow11_col1\" class=\"data row11 col1\" >-14.67%</td>\n",
      "                        <td id=\"T_4cec89b8_52b5_11ef_9be1_988389e8eb8drow11_col2\" class=\"data row11 col2\" >-3.32%</td>\n",
      "            </tr>\n",
      "            <tr>\n",
      "                        <th id=\"T_4cec89b8_52b5_11ef_9be1_988389e8eb8dlevel0_row12\" class=\"row_heading level0 row12\" >Filosofia</th>\n",
      "                        <td id=\"T_4cec89b8_52b5_11ef_9be1_988389e8eb8drow12_col0\" class=\"data row12 col0\" >-5.60%</td>\n",
      "                        <td id=\"T_4cec89b8_52b5_11ef_9be1_988389e8eb8drow12_col1\" class=\"data row12 col1\" >-13.31%</td>\n",
      "                        <td id=\"T_4cec89b8_52b5_11ef_9be1_988389e8eb8drow12_col2\" class=\"data row12 col2\" >2.53%</td>\n",
      "            </tr>\n",
      "            <tr>\n",
      "                        <th id=\"T_4cec89b8_52b5_11ef_9be1_988389e8eb8dlevel0_row13\" class=\"row_heading level0 row13\" >Gestão da informação e do conhecimento</th>\n",
      "                        <td id=\"T_4cec89b8_52b5_11ef_9be1_988389e8eb8drow13_col0\" class=\"data row13 col0\" >-16.67%</td>\n",
      "                        <td id=\"T_4cec89b8_52b5_11ef_9be1_988389e8eb8drow13_col1\" class=\"data row13 col1\" >-7.39%</td>\n",
      "                        <td id=\"T_4cec89b8_52b5_11ef_9be1_988389e8eb8drow13_col2\" class=\"data row13 col2\" >1.42%</td>\n",
      "            </tr>\n",
      "    </tbody></table>\n"
     ]
    }
   ],
   "source": [
    "print(html_final.render())"
   ]
  },
  {
   "attachments": {
    "image.png": {
     "image/png": "[encoded data removed]"
    }
   },
   "cell_type": "markdown",
   "metadata": {},
   "source": [
    "![image.png](attachment:image.png)"
   ]
  },
  {
   "cell_type": "code",
   "execution_count": null,
   "metadata": {},
   "outputs": [],
   "source": []
  }
 ],
 "metadata": {
  "kernelspec": {
   "display_name": "Python 3",
   "language": "python",
   "name": "python3"
  },
  "language_info": {
   "codemirror_mode": {
    "name": "ipython",
    "version": 3
   },
   "file_extension": ".py",
   "mimetype": "text/x-python",
   "name": "python",
   "nbconvert_exporter": "python",
   "pygments_lexer": "ipython3",
   "version": "3.7.6"
  }
 },
 "nbformat": 4,
 "nbformat_minor": 4
}
